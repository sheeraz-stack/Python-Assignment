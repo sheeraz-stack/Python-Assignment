{
  "nbformat": 4,
  "nbformat_minor": 0,
  "metadata": {
    "colab": {
      "provenance": [],
      "authorship_tag": "ABX9TyOKIb62+tkya85avsifpiUy",
      "include_colab_link": true
    },
    "kernelspec": {
      "name": "python3",
      "display_name": "Python 3"
    },
    "language_info": {
      "name": "python"
    }
  },
  "cells": [
    {
      "cell_type": "markdown",
      "metadata": {
        "id": "view-in-github",
        "colab_type": "text"
      },
      "source": [
        "<a href=\"https://colab.research.google.com/github/jayant3297/Pre_Placement_Training/blob/main/03th_July_Python.ipynb\" target=\"_parent\"><img src=\"https://colab.research.google.com/assets/colab-badge.svg\" alt=\"Open In Colab\"/></a>"
      ]
    },
    {
      "cell_type": "markdown",
      "source": [
        "1. Write a Python program to check if a given string is an anagram."
      ],
      "metadata": {
        "id": "Z_-33_ja-hQ5"
      }
    },
    {
      "cell_type": "code",
      "execution_count": 1,
      "metadata": {
        "colab": {
          "base_uri": "https://localhost:8080/"
        },
        "id": "0xmh4BFI8Isc",
        "outputId": "80f69e6a-66ad-44d4-c1a7-3da4679ed3e7"
      },
      "outputs": [
        {
          "output_type": "stream",
          "name": "stdout",
          "text": [
            "True\n"
          ]
        }
      ],
      "source": [
        "def is_anagram(str1, str2):\n",
        "    return sorted(str1) == sorted(str2)\n",
        "\n",
        "# Example usage\n",
        "string1 = \"listen\"\n",
        "string2 = \"silent\"\n",
        "print(is_anagram(string1, string2))\n"
      ]
    },
    {
      "cell_type": "markdown",
      "source": [
        "2. Write a Python program to find the maximum and minimum values in a\n",
        "dictionary."
      ],
      "metadata": {
        "id": "2S2BYtc_-mDU"
      }
    },
    {
      "cell_type": "code",
      "source": [
        "def find_max_min(dictionary):\n",
        "    if len(dictionary) == 0:\n",
        "        return None\n",
        "\n",
        "    values = dictionary.values()\n",
        "    return max(values), min(values)\n",
        "\n",
        "# Example usage\n",
        "my_dict = {'a': 10, 'b': 5, 'c': 15}\n",
        "max_value, min_value = find_max_min(my_dict)\n",
        "print(\"Max:\", max_value)\n",
        "print(\"Min:\", min_value)\n"
      ],
      "metadata": {
        "colab": {
          "base_uri": "https://localhost:8080/"
        },
        "id": "hcipQqtb-kIH",
        "outputId": "3e4c8279-39c8-4fc7-f7c8-94def739e495"
      },
      "execution_count": 2,
      "outputs": [
        {
          "output_type": "stream",
          "name": "stdout",
          "text": [
            "Max: 15\n",
            "Min: 5\n"
          ]
        }
      ]
    },
    {
      "cell_type": "markdown",
      "source": [
        "3. Write a Python program to find the average of a list of numbers."
      ],
      "metadata": {
        "id": "c2lVtd2q-rjA"
      }
    },
    {
      "cell_type": "code",
      "source": [
        "def calculate_average(numbers):\n",
        "    if len(numbers) == 0:\n",
        "        return None\n",
        "\n",
        "    return sum(numbers) / len(numbers)\n",
        "\n",
        "# Example usage\n",
        "my_list = [1, 2, 3, 4, 5]\n",
        "average = calculate_average(my_list)\n",
        "print(average)\n"
      ],
      "metadata": {
        "id": "GyiqP6z3-oHq"
      },
      "execution_count": null,
      "outputs": []
    },
    {
      "cell_type": "markdown",
      "source": [
        "4. Write a Python program to remove all vowels from a string."
      ],
      "metadata": {
        "id": "uCAWNSNr-viB"
      }
    },
    {
      "cell_type": "code",
      "source": [
        "def remove_vowels(string):\n",
        "    vowels = 'aeiouAEIOU'\n",
        "    return ''.join(char for char in string if char not in vowels)\n",
        "\n",
        "# Example usage\n",
        "my_string = \"Hello, World!\"\n",
        "new_string = remove_vowels(my_string)\n",
        "print(new_string)\n"
      ],
      "metadata": {
        "colab": {
          "base_uri": "https://localhost:8080/"
        },
        "id": "ioQZdtTz-v6d",
        "outputId": "83c4c986-a2d3-475d-9f5d-8833125c9167"
      },
      "execution_count": 3,
      "outputs": [
        {
          "output_type": "stream",
          "name": "stdout",
          "text": [
            "Hll, Wrld!\n"
          ]
        }
      ]
    },
    {
      "cell_type": "markdown",
      "source": [
        "5. Write a Python function to calculate the factorial of a number using recursion."
      ],
      "metadata": {
        "id": "ghhNv68g-z6T"
      }
    },
    {
      "cell_type": "code",
      "source": [
        "def factorial(n):\n",
        "    if n == 0:\n",
        "        return 1\n",
        "    else:\n",
        "        return n * factorial(n - 1)\n",
        "\n",
        "# Example usage\n",
        "number = 5\n",
        "result = factorial(number)\n",
        "print(result)\n"
      ],
      "metadata": {
        "colab": {
          "base_uri": "https://localhost:8080/"
        },
        "id": "yOb-iRds-xse",
        "outputId": "86149d0c-3041-4279-c435-8491ac20101c"
      },
      "execution_count": 4,
      "outputs": [
        {
          "output_type": "stream",
          "name": "stdout",
          "text": [
            "120\n"
          ]
        }
      ]
    },
    {
      "cell_type": "markdown",
      "source": [
        "6. Write a Python program to merge two unsorted lists into a single sorted list\n",
        "using the merge sort algorithm."
      ],
      "metadata": {
        "id": "psIhu1dv-5MV"
      }
    },
    {
      "cell_type": "code",
      "source": [
        "def merge_sort(list1, list2):\n",
        "    merged_list = list1 + list2\n",
        "    merged_list.sort()\n",
        "    return merged_list\n",
        "\n",
        "# Example usage\n",
        "unsorted_list1 = [5, 2, 8, 1]\n",
        "unsorted_list2 = [7, 3, 6, 4]\n",
        "sorted_list = merge_sort(unsorted_list1, unsorted_list2)\n",
        "print(sorted_list)\n"
      ],
      "metadata": {
        "colab": {
          "base_uri": "https://localhost:8080/"
        },
        "id": "VuewMZIV-2Qd",
        "outputId": "98a5c2fa-a960-477f-8d4a-6a48c4b829a5"
      },
      "execution_count": 5,
      "outputs": [
        {
          "output_type": "stream",
          "name": "stdout",
          "text": [
            "[1, 2, 3, 4, 5, 6, 7, 8]\n"
          ]
        }
      ]
    },
    {
      "cell_type": "markdown",
      "source": [
        "7. Write a Python program to find the GCD (Greatest Common Divisor) of two\n",
        "numbers."
      ],
      "metadata": {
        "id": "jzhD2aON-9MQ"
      }
    },
    {
      "cell_type": "code",
      "source": [
        "def gcd(a, b):\n",
        "    while b:\n",
        "        a, b = b, a % b\n",
        "    return a\n",
        "\n",
        "# Example usage\n",
        "num1 = 24\n",
        "num2 = 36\n",
        "result = gcd(num1, num2)\n",
        "print(result)\n"
      ],
      "metadata": {
        "colab": {
          "base_uri": "https://localhost:8080/"
        },
        "id": "98LTQ5cD-7J6",
        "outputId": "b7bcb2bc-2bd9-4ac2-91b5-f3f9dd383b62"
      },
      "execution_count": 6,
      "outputs": [
        {
          "output_type": "stream",
          "name": "stdout",
          "text": [
            "12\n"
          ]
        }
      ]
    },
    {
      "cell_type": "markdown",
      "source": [
        "8. Write a Python program to find the second-largest element in a list."
      ],
      "metadata": {
        "id": "Lcbqoyaf_BKj"
      }
    },
    {
      "cell_type": "code",
      "source": [
        "def find_second_largest(numbers):\n",
        "    if len(numbers) < 2:\n",
        "        return None\n",
        "\n",
        "    largest = max(numbers)\n",
        "    numbers.remove(largest)\n",
        "    second_largest = max(numbers)\n",
        "    return second_largest\n",
        "\n",
        "# Example usage\n",
        "my_list = [10, 5, 8, 20, 15]\n",
        "second_largest = find_second_largest(my_list)\n",
        "print(second_largest)\n"
      ],
      "metadata": {
        "colab": {
          "base_uri": "https://localhost:8080/"
        },
        "id": "RtUpwL1D-_Ga",
        "outputId": "857ce3e6-b6b6-467c-8b28-1b14fcdc8447"
      },
      "execution_count": 7,
      "outputs": [
        {
          "output_type": "stream",
          "name": "stdout",
          "text": [
            "15\n"
          ]
        }
      ]
    },
    {
      "cell_type": "markdown",
      "source": [
        "9. Write a Python program to find the longest common subsequence between two\n",
        "strings using dynamic programming."
      ],
      "metadata": {
        "id": "8ZpWAMqJ_GdG"
      }
    },
    {
      "cell_type": "code",
      "source": [
        "def longest_common_subsequence(str1, str2):\n",
        "    m, n = len(str1), len(str2)\n",
        "    dp = [[0] * (n + 1) for _ in range(m + 1)]\n",
        "\n",
        "    for i in range(1, m + 1):\n",
        "        for j in range(1, n + 1):\n",
        "            if str1[i - 1] == str2[j - 1]:\n",
        "                dp[i][j] = dp[i - 1][j - 1] + 1\n",
        "            else:\n",
        "                dp[i][j] = max(dp[i - 1][j], dp[i][j - 1])\n",
        "\n",
        "    lcs_length = dp[m][n]\n",
        "\n",
        "    # Retrieve the longest common subsequence\n",
        "    i, j = m, n\n",
        "    lcs = []\n",
        "    while i > 0 and j > 0:\n",
        "        if str1[i - 1] == str2[j - 1]:\n",
        "            lcs.append(str1[i - 1])\n",
        "            i -= 1\n",
        "            j -= 1\n",
        "        elif dp[i - 1][j] > dp[i][j - 1]:\n",
        "            i -= 1\n",
        "        else:\n",
        "            j -= 1\n",
        "\n",
        "    lcs.reverse()\n",
        "    return lcs_length, ''.join(lcs)\n",
        "\n",
        "# Example usage\n",
        "string1 = \"AGGTAB\"\n",
        "string2 = \"GXTXAYB\"\n",
        "length, subsequence = longest_common_subsequence(string1, string2)\n",
        "print(\"Length:\", length)\n",
        "print(\"Subsequence:\", subsequence)\n"
      ],
      "metadata": {
        "colab": {
          "base_uri": "https://localhost:8080/"
        },
        "id": "kYlTrFUd_DKt",
        "outputId": "9fee94e9-fa25-4f4b-8490-6f6076ea9a0a"
      },
      "execution_count": 8,
      "outputs": [
        {
          "output_type": "stream",
          "name": "stdout",
          "text": [
            "Length: 4\n",
            "Subsequence: GTAB\n"
          ]
        }
      ]
    },
    {
      "cell_type": "code",
      "source": [],
      "metadata": {
        "id": "9F4meRTT_Jkr"
      },
      "execution_count": null,
      "outputs": []
    }
  ]
}