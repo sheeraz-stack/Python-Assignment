{
  "nbformat": 4,
  "nbformat_minor": 0,
  "metadata": {
    "colab": {
      "provenance": [],
      "authorship_tag": "ABX9TyPXtwCfA56tQCYtZApDvAAD",
      "include_colab_link": true
    },
    "kernelspec": {
      "name": "python3",
      "display_name": "Python 3"
    },
    "language_info": {
      "name": "python"
    }
  },
  "cells": [
    {
      "cell_type": "markdown",
      "metadata": {
        "id": "view-in-github",
        "colab_type": "text"
      },
      "source": [
        "<a href=\"https://colab.research.google.com/github/jayant3297/Pre_Placement_Training/blob/main/Assignment11.ipynb\" target=\"_parent\"><img src=\"https://colab.research.google.com/assets/colab-badge.svg\" alt=\"Open In Colab\"/></a>"
      ]
    },
    {
      "cell_type": "markdown",
      "source": [
        "<aside>\n",
        "💡 **Question 1**\n",
        "\n",
        "Given a non-negative integer `x`, return *the square root of* `x` *rounded down to the nearest integer*. The returned integer should be **non-negative** as well.\n",
        "\n",
        "You **must not use** any built-in exponent function or operator.\n",
        "\n",
        "- For example, do not use `pow(x, 0.5)` in c++ or `x ** 0.5` in python.\n",
        "\n",
        "</aside>\n",
        "\n",
        "Example 1 \n",
        "Input: x = 4\n",
        "Output: 2\n",
        "Explanation: The square root of 4 is 2, so we return 2.\n",
        "\n",
        "Example 2:\n",
        "Input: x = 8\n",
        "Output: 2\n",
        "Explanation: The square root of 8 is 2.82842..., and since we round it down to the nearest integer, 2 is returned."
      ],
      "metadata": {
        "id": "n3ICOQ3ofyOr"
      }
    },
    {
      "cell_type": "code",
      "execution_count": 1,
      "metadata": {
        "id": "UxD3cu41fush"
      },
      "outputs": [],
      "source": [
        "def sqrt(x):\n",
        "    if x == 0 or x == 1:\n",
        "        return x\n",
        "    \n",
        "    left = 0\n",
        "    right = x\n",
        "    \n",
        "    while left <= right:\n",
        "        mid = (left + right) // 2\n",
        "        if mid * mid == x:\n",
        "            return mid\n",
        "        elif mid * mid < x:\n",
        "            left = mid + 1\n",
        "            ans = mid\n",
        "        else:\n",
        "            right = mid - 1\n",
        "    \n",
        "    return ans"
      ]
    },
    {
      "cell_type": "code",
      "source": [
        "x1 = 4\n",
        "x2 = 8\n",
        "\n",
        "print(sqrt(x1))\n",
        "print(sqrt(x2))"
      ],
      "metadata": {
        "colab": {
          "base_uri": "https://localhost:8080/"
        },
        "id": "3UcwIZgEgne3",
        "outputId": "46e178e0-4b2c-4385-ab23-8b1ef2c0a68d"
      },
      "execution_count": 2,
      "outputs": [
        {
          "output_type": "stream",
          "name": "stdout",
          "text": [
            "2\n",
            "2\n"
          ]
        }
      ]
    },
    {
      "cell_type": "markdown",
      "source": [
        "<aside>\n",
        "💡 **Question 2**\n",
        "\n",
        "A peak element is an element that is strictly greater than its neighbors.\n",
        "\n",
        "Given a **0-indexed** integer array `nums`, find a peak element, and return its index. If the array contains multiple peaks, return the index to **any of the peaks**.\n",
        "\n",
        "You may imagine that `nums[-1] = nums[n] = -∞`. In other words, an element is always considered to be strictly greater than a neighbor that is outside the array.\n",
        "\n",
        "You must write an algorithm that runs in `O(log n)` time.\n",
        "\n",
        "**Example 1:**\n",
        "\n",
        "</aside>\n",
        "Input: nums = [1,2,3,1]\n",
        "Output: 2\n",
        "Explanation: 3 is a peak element and your function should return the index number 2.\n",
        "\n",
        "Example 2:\n",
        "Input: nums = [1,2,1,3,5,6,4]\n",
        "Output: 5\n",
        "Explanation: Your function can return either index number 1 where the peak element is 2, or index number 5 where the peak element is 6."
      ],
      "metadata": {
        "id": "4glAAPmbgtEf"
      }
    },
    {
      "cell_type": "code",
      "source": [
        "def findPeakElement(nums):\n",
        "    left = 0\n",
        "    right = len(nums) - 1\n",
        "    \n",
        "    while left < right:\n",
        "        mid = (left + right) // 2\n",
        "        \n",
        "        if nums[mid] < nums[mid+1]:\n",
        "            left = mid + 1\n",
        "        else:\n",
        "            right = mid\n",
        "    \n",
        "    return left\n"
      ],
      "metadata": {
        "id": "es-zQgJYgpw8"
      },
      "execution_count": 3,
      "outputs": []
    },
    {
      "cell_type": "code",
      "source": [
        "nums1 = [1, 2, 3, 1]\n",
        "nums2 = [1, 2, 1, 3, 5, 6, 4]\n",
        "\n",
        "\n",
        "print(findPeakElement(nums1))\n",
        "print(findPeakElement(nums2))"
      ],
      "metadata": {
        "colab": {
          "base_uri": "https://localhost:8080/"
        },
        "id": "T-8PyZoWg4fw",
        "outputId": "396f5ea5-b23d-447a-821e-895df9e1a403"
      },
      "execution_count": 6,
      "outputs": [
        {
          "output_type": "stream",
          "name": "stdout",
          "text": [
            "2\n",
            "5\n"
          ]
        }
      ]
    },
    {
      "cell_type": "markdown",
      "source": [
        "<aside>\n",
        "💡 **Question 3**\n",
        "\n",
        "****\n",
        "\n",
        "Given an array `nums` containing `n` distinct numbers in the range `[0, n]`, return *the only number in the range that is missing from the array.*\n",
        "\n",
        "**Example 1:**\n",
        "\n",
        "</aside>\n",
        "Input: nums = [3,0,1]\n",
        "Output: 2\n",
        "Explanation: n = 3 since there are 3 numbers, so all numbers are in the range [0,3]. 2 is the missing number in the range since it does not appear in nums.\n",
        "**Example 2:**\n",
        "\n",
        "Input: nums = [0,1]\n",
        "Output: 2\n",
        "Explanation: n = 2 since there are 2 numbers, so all numbers are in the range [0,2]. 2 is the missing number in the range since it does not appear in nums.\n",
        "\n",
        "\n",
        "**Example 3:**\n",
        "\n",
        "Input: nums = [9,6,4,2,3,5,7,0,1]\n",
        "Output: 8\n",
        "Explanation: n = 9 since there are 9 numbers, so all numbers are in the range [0,9]. 8 is the missing number in the range since it does not appear in nums."
      ],
      "metadata": {
        "id": "-a7Ote1Ghc3P"
      }
    },
    {
      "cell_type": "code",
      "source": [
        "def missingNumber(nums):\n",
        "    n = len(nums)\n",
        "    total_sum = (n * (n + 1)) // 2\n",
        "    array_sum = sum(nums)\n",
        "    missing_num = total_sum - array_sum\n",
        "    return missing_num"
      ],
      "metadata": {
        "id": "mX0u5r4Cg65G"
      },
      "execution_count": 7,
      "outputs": []
    },
    {
      "cell_type": "code",
      "source": [
        "nums1 = [3, 0, 1]\n",
        "nums2 = [0, 1]\n",
        "nums3 = [9, 6, 4, 2, 3, 5, 7, 0, 1]\n"
      ],
      "metadata": {
        "id": "tC67Tq_zhtlh"
      },
      "execution_count": 8,
      "outputs": []
    },
    {
      "cell_type": "markdown",
      "source": [
        "<aside>\n",
        "💡 **Question 4**\n",
        "\n",
        "Given an array of integers `nums` containing `n + 1` integers where each integer is in the range `[1, n]` inclusive.\n",
        "\n",
        "There is only **one repeated number** in `nums`, return *this repeated number*.\n",
        "\n",
        "You must solve the problem **without** modifying the array `nums` and uses only constant extra space.\n",
        "\n",
        "</aside>\n",
        "**Example 1:**\n",
        "\n",
        "\n",
        "Input: nums = [1,3,4,2,2]\n",
        "Output: 2\n",
        "\n",
        "\n",
        "**Example 2:**\n",
        "\n",
        "Input: nums = [3,1,3,4,2]\n",
        "Output: 3"
      ],
      "metadata": {
        "id": "L-1k5Pn4hysf"
      }
    },
    {
      "cell_type": "code",
      "source": [
        "def findDuplicate(nums):\n",
        "    left = 1\n",
        "    right = len(nums) - 1\n",
        "\n",
        "    while left < right:\n",
        "        mid = left + (right - left) // 2\n",
        "\n",
        "        count = 0\n",
        "        for num in nums:\n",
        "            if num <= mid:\n",
        "                count += 1\n",
        "\n",
        "        if count <= mid:\n",
        "            left = mid + 1\n",
        "        else:\n",
        "            right = mid\n",
        "\n",
        "    return left"
      ],
      "metadata": {
        "id": "LgsyDnTShvfS"
      },
      "execution_count": 11,
      "outputs": []
    },
    {
      "cell_type": "code",
      "source": [
        "nums1 = [1, 3, 4, 2, 2]\n",
        "nums2 = [3, 1, 3, 4, 2]\n",
        "\n",
        "print(findDuplicate(nums1))\n",
        "print(findDuplicate(nums2))"
      ],
      "metadata": {
        "colab": {
          "base_uri": "https://localhost:8080/"
        },
        "id": "uTY_wjtziOlh",
        "outputId": "9514ff14-8660-421d-fd3f-df35874d45e7"
      },
      "execution_count": 12,
      "outputs": [
        {
          "output_type": "stream",
          "name": "stdout",
          "text": [
            "2\n",
            "3\n"
          ]
        }
      ]
    },
    {
      "cell_type": "markdown",
      "source": [
        "<aside>\n",
        "💡 **Question 5**\n",
        "\n",
        "Given two integer arrays `nums1` and `nums2`, return *an array of their intersection*. Each element in the result must be **unique** and you may return the result in **any order**.\n",
        "\n",
        "**Example 1:**\n",
        "\n",
        "\n",
        "Input: nums1 = [1,2,2,1], nums2 = [2,2]\n",
        "Output: [2]\n",
        "\n",
        "**Example 2:**\n",
        "\n",
        "</aside>\n",
        "Input: nums1 = [4,9,5], nums2 = [9,4,9,8,4]\n",
        "Output: [9,4]\n",
        "Explanation: [4,9] is also accepted."
      ],
      "metadata": {
        "id": "gYs-3ayeiom7"
      }
    },
    {
      "cell_type": "code",
      "source": [
        "def intersection(nums1, nums2):\n",
        "    set1 = set(nums1)\n",
        "    set2 = set(nums2)\n",
        "\n",
        "    intersection_set = set1.intersection(set2)\n",
        "\n",
        "    return list(intersection_set)"
      ],
      "metadata": {
        "id": "zlhUin4siPR4"
      },
      "execution_count": 14,
      "outputs": []
    },
    {
      "cell_type": "code",
      "source": [
        "nums1 = [1, 2, 2, 1]\n",
        "nums2 = [2, 2]\n",
        "print(intersection(nums1, nums2))\n",
        "\n",
        "nums3 = [4, 9, 5]\n",
        "nums4 = [9, 4, 9, 8, 4]\n",
        "print(intersection(nums3, nums4))"
      ],
      "metadata": {
        "colab": {
          "base_uri": "https://localhost:8080/"
        },
        "id": "brdZTtlLi-pz",
        "outputId": "4a5f3b54-c2ac-4ce8-b88d-42b804ef40c1"
      },
      "execution_count": 15,
      "outputs": [
        {
          "output_type": "stream",
          "name": "stdout",
          "text": [
            "[2]\n",
            "[9, 4]\n"
          ]
        }
      ]
    },
    {
      "cell_type": "markdown",
      "source": [
        "<aside>\n",
        "💡 **Question 6**\n",
        "\n",
        "Suppose an array of length `n` sorted in ascending order is **rotated** between `1` and `n` times. For example, the array `nums = [0,1,2,4,5,6,7]` might become:\n",
        "\n",
        "- `[4,5,6,7,0,1,2]` if it was rotated `4` times.\n",
        "- `[0,1,2,4,5,6,7]` if it was rotated `7` times.\n",
        "\n",
        "Notice that **rotating** an array `[a[0], a[1], a[2], ..., a[n-1]]` 1 time results in the array `[a[n-1], a[0], a[1], a[2], ..., a[n-2]]`.\n",
        "\n",
        "Given the sorted rotated array `nums` of **unique** elements, return *the minimum element of this array*.\n",
        "\n",
        "You must write an algorithm that runs in `O(log n) time.`\n",
        "\n",
        "**Example 1:**\n",
        "\n",
        "Input: nums = [3,4,5,1,2]\n",
        "Output: 1\n",
        "Explanation: The original array was [1,2,3,4,5] rotated 3 times.\n",
        "\n",
        "**Example 2:**\n",
        "\n",
        "Input: nums = [4,5,6,7,0,1,2]\n",
        "Output: 0\n",
        "Explanation: The original array was [0,1,2,4,5,6,7] and it was rotated 4 times.\n",
        "\n",
        "\n",
        "**Example 3:**\n",
        "\n",
        "Input: nums = [11,13,15,17]\n",
        "Output: 11\n",
        "Explanation: The original array was [11,13,15,17] and it was rotated 4 times.</aside>"
      ],
      "metadata": {
        "id": "RzPsDIIek9Gp"
      }
    },
    {
      "cell_type": "code",
      "source": [
        "def findMin(nums):\n",
        "    left = 0\n",
        "    right = len(nums) - 1\n",
        "\n",
        "    while left < right:\n",
        "        mid = left + (right - left) // 2\n",
        "\n",
        "        if nums[mid] < nums[right]:\n",
        "            right = mid\n",
        "        else:\n",
        "            left = mid + 1\n",
        "\n",
        "    return nums[left]"
      ],
      "metadata": {
        "id": "DnX2aA_Pk2Ge"
      },
      "execution_count": 16,
      "outputs": []
    },
    {
      "cell_type": "code",
      "source": [
        "nums1 = [3, 4, 5, 1, 2]\n",
        "print(findMin(nums1))\n",
        "\n",
        "nums2 = [4, 5, 6, 7, 0, 1, 2]\n",
        "print(findMin(nums2))\n",
        "\n",
        "nums3 = [11, 13, 15, 17]\n",
        "print(findMin(nums3))"
      ],
      "metadata": {
        "colab": {
          "base_uri": "https://localhost:8080/"
        },
        "id": "vLUibSVtlSHO",
        "outputId": "fe7ded3a-9e00-49ca-9c0c-e2e27a027aaf"
      },
      "execution_count": 17,
      "outputs": [
        {
          "output_type": "stream",
          "name": "stdout",
          "text": [
            "1\n",
            "0\n",
            "11\n"
          ]
        }
      ]
    },
    {
      "cell_type": "markdown",
      "source": [
        "<aside>\n",
        "💡 **Question 7**\n",
        "\n",
        "Given an array of integers `nums` sorted in non-decreasing order, find the starting and ending position of a given `target` value.\n",
        "\n",
        "If `target` is not found in the array, return `[-1, -1]`.\n",
        "\n",
        "You must write an algorithm with `O(log n)` runtime complexity.\n",
        "\n",
        "**Example 1:**\n",
        "\n",
        "\n",
        "Input: nums = [5,7,7,8,8,10], target = 8\n",
        "Output: [3,4]\n",
        "\n",
        "**Example 2:**\n",
        "\n",
        "\n",
        "Input: nums = [5,7,7,8,8,10], target = 6\n",
        "Output: [-1,-1]\n",
        "\n",
        "\n",
        "\n",
        "**Example 3:**\n",
        "\n",
        "Input: nums = [], target = 0\n",
        "Output: [-1,-1]\n",
        "\n",
        "</aside>"
      ],
      "metadata": {
        "id": "MpRN-Amrldrb"
      }
    },
    {
      "cell_type": "code",
      "source": [
        "def searchRange(nums, target):\n",
        "   \n",
        "    if not nums:\n",
        "        return [-1, -1]\n",
        "\n",
        "     # Find leftmost occurrence of target\n",
        "    left = 0\n",
        "    right = len(nums) - 1\n",
        "    start = -1\n",
        "\n",
        "    while left < right:\n",
        "        mid = left + (right - left) // 2\n",
        "\n",
        "        if nums[mid] < target:\n",
        "            left = mid + 1\n",
        "        else:\n",
        "            right = mid\n",
        "    if nums[left] == target:\n",
        "        start = left\n",
        "\n",
        "    # Find rightmost occurrence of target\n",
        "    left = 0\n",
        "    right = len(nums) - 1\n",
        "    end = -1\n",
        "\n",
        "    while left < right:\n",
        "        mid = left + (right - left) // 2 + 1\n",
        "\n",
        "        if nums[mid] > target:\n",
        "            right = mid - 1\n",
        "        else:\n",
        "            left = mid\n",
        "    if nums[right] == target:\n",
        "        end = right\n",
        "\n",
        "    # Check if target is found\n",
        "    if start == -1:\n",
        "        return [-1, -1]\n",
        "    else:\n",
        "        return [start, end]"
      ],
      "metadata": {
        "id": "63cXtpjblUyR"
      },
      "execution_count": 20,
      "outputs": []
    },
    {
      "cell_type": "code",
      "source": [
        "nums1 = [5, 7, 7, 8, 8, 10]\n",
        "target1 = 8\n",
        "print(searchRange(nums1, target1))\n",
        "\n",
        "nums2 = [5, 7, 7, 8, 8, 10]\n",
        "target2 = 6\n",
        "print(searchRange(nums2, target2))\n",
        "\n",
        "nums3 = []\n",
        "target3 = 0\n",
        "print(searchRange(nums3, target3))"
      ],
      "metadata": {
        "colab": {
          "base_uri": "https://localhost:8080/"
        },
        "id": "4eUpbsYMl4sy",
        "outputId": "23bdc0c8-1534-4405-a0ea-9ca0f5f1e645"
      },
      "execution_count": 21,
      "outputs": [
        {
          "output_type": "stream",
          "name": "stdout",
          "text": [
            "[3, 4]\n",
            "[-1, -1]\n",
            "[-1, -1]\n"
          ]
        }
      ]
    },
    {
      "cell_type": "markdown",
      "source": [
        "<aside>\n",
        "💡 **Question 8**\n",
        "\n",
        "Given two integer arrays `nums1` and `nums2`, return *an array of their intersection*. Each element in the result must appear as many times as it shows in both arrays and you may return the result in **any order**.\n",
        "\n",
        "**Example 1:**\n",
        "\n",
        "Input: nums1 = [1,2,2,1], nums2 = [2,2]\n",
        "Output: [2,2]\n",
        "\n",
        "\n",
        "\n",
        "**Example 2:**\n",
        "Input: nums1 = [4,9,5], nums2 = [9,4,9,8,4]\n",
        "Output: [4,9]\n",
        "Explanation: [9,4] is also accepted.\n",
        "\n",
        "</aside>"
      ],
      "metadata": {
        "id": "iJRpbVG3ml-m"
      }
    },
    {
      "cell_type": "code",
      "source": [
        "from collections import Counter\n",
        "\n",
        "def intersect(nums1, nums2):\n",
        "    # Create frequency maps for nums1 and nums2\n",
        "    freq1 = Counter(nums1)\n",
        "    freq2 = Counter(nums2)\n",
        "    \n",
        "    # Initialize the result array\n",
        "    result = []\n",
        "    \n",
        "    # Iterate through nums1 and check for common elements\n",
        "    for num in nums1:\n",
        "        if freq1[num] > 0 and freq2[num] > 0:\n",
        "            result.append(num)\n",
        "            freq1[num] -= 1\n",
        "            freq2[num] -= 1\n",
        "    \n",
        "    return result\n"
      ],
      "metadata": {
        "id": "ZTMG8divl8Dc"
      },
      "execution_count": 22,
      "outputs": []
    },
    {
      "cell_type": "code",
      "source": [
        "nums1 = [1, 2, 2, 1]\n",
        "nums2 = [2, 2]\n",
        "print(intersect(nums1, nums2))  \n",
        "\n",
        "nums3 = [4, 9, 5]\n",
        "nums4 = [9, 4, 9, 8, 4]\n",
        "print(intersect(nums3, nums4))"
      ],
      "metadata": {
        "colab": {
          "base_uri": "https://localhost:8080/"
        },
        "id": "9irUilGkm9x_",
        "outputId": "dfa522a4-56e4-41a0-dd67-263b1bfb30b2"
      },
      "execution_count": 23,
      "outputs": [
        {
          "output_type": "stream",
          "name": "stdout",
          "text": [
            "[2, 2]\n",
            "[4, 9]\n"
          ]
        }
      ]
    },
    {
      "cell_type": "code",
      "source": [],
      "metadata": {
        "id": "gpWkV6vNnCdd"
      },
      "execution_count": null,
      "outputs": []
    }
  ]
}