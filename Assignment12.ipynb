{
  "nbformat": 4,
  "nbformat_minor": 0,
  "metadata": {
    "colab": {
      "provenance": [],
      "authorship_tag": "ABX9TyPbDGqiFYtHYV3W4VIjRpx7",
      "include_colab_link": true
    },
    "kernelspec": {
      "name": "python3",
      "display_name": "Python 3"
    },
    "language_info": {
      "name": "python"
    }
  },
  "cells": [
    {
      "cell_type": "markdown",
      "metadata": {
        "id": "view-in-github",
        "colab_type": "text"
      },
      "source": [
        "<a href=\"https://colab.research.google.com/github/jayant3297/Pre_Placement_Training/blob/main/Assignment12.ipynb\" target=\"_parent\"><img src=\"https://colab.research.google.com/assets/colab-badge.svg\" alt=\"Open In Colab\"/></a>"
      ]
    },
    {
      "cell_type": "markdown",
      "source": [
        "<aside>\n",
        "💡 **Question 1**\n",
        "\n",
        "Given a singly linked list, delete **middle** of the linked list. For example, if given linked list is 1->2->**3**->4->5 then linked list should be modified to 1->2->4->5.If there are **even** nodes, then there would be **two middle** nodes, we need to delete the second middle element. For example, if given linked list is 1->2->3->4->5->6 then it should be modified to 1->2->3->5->6.If the input linked list is NULL or has 1 node, then it should return NULL\n",
        "\n",
        "**Example 1:**\n",
        "\n",
        "</aside>\n",
        "Input:\n",
        "LinkedList: 1->2->3->4->5\n",
        "Output:1 2 4 5\n",
        "\n",
        "Example 2\n",
        "Input:\n",
        "LinkedList: 2->4->6->7->5->1\n",
        "Output:2 4 6 5 1"
      ],
      "metadata": {
        "id": "AZq0_HUGsre3"
      }
    },
    {
      "cell_type": "code",
      "execution_count": 1,
      "metadata": {
        "id": "CmmS2UTEsqXW"
      },
      "outputs": [],
      "source": [
        "class ListNode:\n",
        "    def __init__(self, val=0, next=None):\n",
        "        self.val = val\n",
        "        self.next = next\n",
        "\n",
        "def deleteMiddleNode(head):\n",
        "    # If the linked list is empty or has only one node, return the head\n",
        "    if not head or not head.next:\n",
        "        return head\n",
        "    \n",
        "    # Initialize slow and fast pointers\n",
        "    slow = head\n",
        "    fast = head\n",
        "    prev = None\n",
        "    \n",
        "    # Move the fast pointer two nodes at a time and the slow pointer one node at a time\n",
        "    while fast and fast.next:\n",
        "        fast = fast.next.next\n",
        "        prev = slow\n",
        "        slow = slow.next\n",
        "    \n",
        "    # Delete the middle node(s) by bypassing it\n",
        "    prev.next = slow.next\n",
        "    \n",
        "    return head"
      ]
    },
    {
      "cell_type": "code",
      "source": [
        "def printLinkedList(head):\n",
        "    curr = head\n",
        "    while curr:\n",
        "        print(curr.val, end=\" \")\n",
        "        curr = curr.next\n",
        "    print()"
      ],
      "metadata": {
        "id": "t5QsY3n2x8y3"
      },
      "execution_count": 4,
      "outputs": []
    },
    {
      "cell_type": "code",
      "source": [
        "# Example 1\n",
        "head1 = ListNode(1)\n",
        "head1.next = ListNode(2)\n",
        "head1.next.next = ListNode(3)\n",
        "head1.next.next.next = ListNode(4)\n",
        "head1.next.next.next.next = ListNode(5)\n",
        "print(\"Original Linked List:\")\n",
        "printLinkedList(head1)\n",
        "head1 = deleteMiddleNode(head1)\n",
        "print(\"Modified Linked List:\")\n",
        "printLinkedList(head1)\n",
        "\n",
        "# Example 2\n",
        "head2 = ListNode(2)\n",
        "head2.next = ListNode(4)\n",
        "head2.next.next = ListNode(6)\n",
        "head2.next.next.next = ListNode(7)\n",
        "head2.next.next.next.next = ListNode(5)\n",
        "head2.next.next.next.next.next = ListNode(1)\n",
        "print(\"Original Linked List:\")\n",
        "printLinkedList(head2)\n",
        "head2 = deleteMiddleNode(head2)\n",
        "print(\"Modified Linked List:\")\n",
        "printLinkedList(head2)"
      ],
      "metadata": {
        "colab": {
          "base_uri": "https://localhost:8080/"
        },
        "id": "J7GaivUMxtRc",
        "outputId": "72ec5dac-950b-45fe-81aa-bcaf9ab309f4"
      },
      "execution_count": 5,
      "outputs": [
        {
          "output_type": "stream",
          "name": "stdout",
          "text": [
            "Original Linked List:\n",
            "1 2 3 4 5 \n",
            "Modified Linked List:\n",
            "1 2 4 5 \n",
            "Original Linked List:\n",
            "2 4 6 7 5 1 \n",
            "Modified Linked List:\n",
            "2 4 6 5 1 \n"
          ]
        }
      ]
    },
    {
      "cell_type": "markdown",
      "source": [
        "<aside>\n",
        "💡 **Question 2**\n",
        "\n",
        "Given a linked list of **N** nodes. The task is to check if the linked list has a loop. Linked list can contain self loop.\n",
        "\n",
        "**Example 1:**\n",
        "\n",
        "Input:\n",
        "N = 3\n",
        "value[] = {1,3,4}\n",
        "x(position at which tail is connected) = 2\n",
        "Output:True\n",
        "Explanation:In above test case N = 3.\n",
        "The linked list with nodes N = 3 is\n",
        "given. Then value of x=2 is given which\n",
        "means last node is connected with xth\n",
        "node of linked list. Therefore, there\n",
        "exists a loop.\n",
        "\n",
        "\n",
        "**Example 2:**\n",
        "\n",
        "Input:\n",
        "N = 4\n",
        "value[] = {1,8,3,4}\n",
        "x = 0\n",
        "Output:False\n",
        "Explanation:For N = 4 ,x = 0 means\n",
        "then lastNode->next = NULL, then\n",
        "the Linked list does not contains\n",
        "any loop.\n",
        "\n",
        "</aside>"
      ],
      "metadata": {
        "id": "YhL8n-lWyDrT"
      }
    },
    {
      "cell_type": "code",
      "source": [
        "class ListNode:\n",
        "    def __init__(self, val=0, next=None):\n",
        "        self.val = val\n",
        "        self.next = next\n",
        "\n",
        "def hasLoop(head):\n",
        "    # If the linked list is empty, return False\n",
        "    if not head:\n",
        "        return False\n",
        "    \n",
        "    # Initialize slow and fast pointers\n",
        "    slow = head\n",
        "    fast = head.next\n",
        "    \n",
        "    # Move the pointers until they meet or reach the end of the list\n",
        "    while fast and fast.next:\n",
        "        if slow == fast:\n",
        "            return True\n",
        "        slow = slow.next\n",
        "        fast = fast.next.next\n",
        "    \n",
        "    # If the fast pointer reaches the end, there is no loop\n",
        "    return False"
      ],
      "metadata": {
        "id": "2q9UMxZ_x3QH"
      },
      "execution_count": 6,
      "outputs": []
    },
    {
      "cell_type": "code",
      "source": [
        "# Example 1\n",
        "head1 = ListNode(1)\n",
        "head1.next = ListNode(3)\n",
        "head1.next.next = ListNode(4)\n",
        "head1.next.next.next = head1.next\n",
        "print(hasLoop(head1))  \n",
        "\n",
        "# Example 2\n",
        "head2 = ListNode(1)\n",
        "head2.next = ListNode(8)\n",
        "head2.next.next = ListNode(3)\n",
        "head2.next.next.next = ListNode(4)\n",
        "print(hasLoop(head2))"
      ],
      "metadata": {
        "colab": {
          "base_uri": "https://localhost:8080/"
        },
        "id": "nicrRkgZyWh3",
        "outputId": "e42bede9-2650-4b69-d7f4-cdb283ce7b97"
      },
      "execution_count": 7,
      "outputs": [
        {
          "output_type": "stream",
          "name": "stdout",
          "text": [
            "True\n",
            "False\n"
          ]
        }
      ]
    },
    {
      "cell_type": "markdown",
      "source": [
        "<aside>\n",
        "💡 **Question 3**\n",
        "\n",
        "Given a linked list consisting of **L** nodes and given a number **N**. The task is to find the **N**th node from the end of the linked list.\n",
        "\n",
        "**Example 1:**\n",
        "\n",
        "```\n",
        "Input:\n",
        "N = 2\n",
        "LinkedList: 1->2->3->4->5->6->7->8->9\n",
        "Output:8\n",
        "Explanation:In the first example, there\n",
        "are 9 nodes in linked list and we need\n",
        "to find 2nd node from end. 2nd node\n",
        "from end is 8.\n",
        "\n",
        "```\n",
        "\n",
        "**Example 2:**\n",
        "\n",
        "```\n",
        "Input:\n",
        "N = 5\n",
        "LinkedList: 10->5->100->5\n",
        "Output:-1\n",
        "Explanation:In the second example, there\n",
        "are 4 nodes in the linked list and we\n",
        "need to find 5th from the end. Since 'n'\n",
        "is more than the number of nodes in the\n",
        "linked list, the output is -1.\n",
        "```\n",
        "\n",
        "</aside>\n",
        "\n"
      ],
      "metadata": {
        "id": "WZwkXY4Iz_NP"
      }
    },
    {
      "cell_type": "code",
      "source": [
        "class ListNode:\n",
        "    def __init__(self, val=0, next=None):\n",
        "        self.val = val\n",
        "        self.next = next\n",
        "\n",
        "def nthNodeFromEnd(head, N):\n",
        "    # Edge case: If the linked list is empty, return None\n",
        "    if not head:\n",
        "        return None\n",
        "    \n",
        "    # Initialize the fast and slow pointers\n",
        "    fast = head\n",
        "    slow = head\n",
        "    \n",
        "    # Move the fast pointer N nodes ahead of the slow pointer\n",
        "    for _ in range(N):\n",
        "        if not fast:\n",
        "            # N is greater than the number of nodes in the linked list\n",
        "            return None\n",
        "        fast = fast.next\n",
        "    \n",
        "    # Move both pointers simultaneously until the fast pointer reaches the end\n",
        "    while fast and fast.next:\n",
        "        slow = slow.next\n",
        "        fast = fast.next\n",
        "    \n",
        "    # The slow pointer will be pointing to the Nth node from the end\n",
        "    return slow.val"
      ],
      "metadata": {
        "id": "IQ0eb3wYycjC"
      },
      "execution_count": 8,
      "outputs": []
    },
    {
      "cell_type": "code",
      "source": [
        "# Example 1\n",
        "head1 = ListNode(1)\n",
        "head1.next = ListNode(2)\n",
        "head1.next.next = ListNode(3)\n",
        "head1.next.next.next = ListNode(4)\n",
        "head1.next.next.next.next = ListNode(5)\n",
        "head1.next.next.next.next.next = ListNode(6)\n",
        "head1.next.next.next.next.next.next = ListNode(7)\n",
        "head1.next.next.next.next.next.next.next = ListNode(8)\n",
        "head1.next.next.next.next.next.next.next.next = ListNode(9)\n",
        "print(nthNodeFromEnd(head1, 2))  \n",
        "\n",
        "# Example 2\n",
        "head2 = ListNode(10)\n",
        "head2.next = ListNode(5)\n",
        "head2.next.next = ListNode(100)\n",
        "head2.next.next.next = ListNode(5)\n",
        "print(nthNodeFromEnd(head2, 5))"
      ],
      "metadata": {
        "colab": {
          "base_uri": "https://localhost:8080/"
        },
        "id": "rCKfGoB60gkk",
        "outputId": "e2125e33-05cc-4f1a-dfbf-0254181a82f1"
      },
      "execution_count": 9,
      "outputs": [
        {
          "output_type": "stream",
          "name": "stdout",
          "text": [
            "7\n",
            "None\n"
          ]
        }
      ]
    },
    {
      "cell_type": "markdown",
      "source": [
        "<aside>\n",
        "💡 **Question 4**\n",
        "\n",
        "Given a singly linked list of characters, write a function that returns true if the given list is a palindrome, else false.\n",
        "\n",
        "</aside>\n",
        "**Examples:**\n",
        "\n",
        "Input: R->A->D->A->R->NULL\n",
        " **Output:** Yes\n",
        " \n",
        "**Input:** C->O->D->E->NULL\n",
        " \n",
        "**Output:** No\n",
        "\n",
        "\n"
      ],
      "metadata": {
        "id": "RdKCBP5j0sjg"
      }
    },
    {
      "cell_type": "code",
      "source": [
        "class ListNode:\n",
        "    def __init__(self, val=0, next=None):\n",
        "        self.val = val\n",
        "        self.next = next\n",
        "\n",
        "def isPalindrome(head):\n",
        "    # Edge case: If the linked list is empty, it is a palindrome\n",
        "    if not head:\n",
        "        return True\n",
        "    \n",
        "    # Step 1: Traverse the linked list and store the values in a list\n",
        "    values = []\n",
        "    current = head\n",
        "    while current:\n",
        "        values.append(current.val)\n",
        "        current = current.next\n",
        "    \n",
        "    # Step 2: Create a reversed version of the list\n",
        "    reversed_values = values[::-1]\n",
        "    \n",
        "    # Step 3: Compare the original list with the reversed version\n",
        "    return values == reversed_values"
      ],
      "metadata": {
        "id": "cVmN0er70luE"
      },
      "execution_count": 10,
      "outputs": []
    },
    {
      "cell_type": "code",
      "source": [
        "# Example 1\n",
        "head1 = ListNode('R')\n",
        "head1.next = ListNode('A')\n",
        "head1.next.next = ListNode('D')\n",
        "head1.next.next.next = ListNode('A')\n",
        "head1.next.next.next.next = ListNode('R')\n",
        "print(isPalindrome(head1))  \n",
        "\n",
        "# Example 2\n",
        "head2 = ListNode('C')\n",
        "head2.next = ListNode('O')\n",
        "head2.next.next = ListNode('D')\n",
        "head2.next.next.next = ListNode('E')\n",
        "print(isPalindrome(head2))"
      ],
      "metadata": {
        "colab": {
          "base_uri": "https://localhost:8080/"
        },
        "id": "uEY8UT3g1Ed-",
        "outputId": "eaaf6a5d-f25a-4581-b20c-68ce59ef7714"
      },
      "execution_count": 11,
      "outputs": [
        {
          "output_type": "stream",
          "name": "stdout",
          "text": [
            "True\n",
            "False\n"
          ]
        }
      ]
    },
    {
      "cell_type": "markdown",
      "source": [
        "<aside>\n",
        "💡 **Question 5**\n",
        "\n",
        "Given a linked list of **N** nodes such that it may contain a loop.\n",
        "\n",
        "A loop here means that the last node of the link list is connected to the node at position X(1-based index). If the link list does not have any loop, X=0.\n",
        "\n",
        "Remove the loop from the linked list, if it is present, i.e. unlink the last node which is forming the loop.\n",
        "\n",
        "**Example 1:**\n",
        "Input:\n",
        "N = 3\n",
        "value[] = {1,3,4}\n",
        "X = 2\n",
        "Output:1\n",
        "\n",
        "Example 2:\n",
        "Input:\n",
        "N = 4\n",
        "value[] = {1,8,3,4}\n",
        "X = 0\n",
        "Output:1\n",
        "\n",
        "**Example 3:**\n",
        "Input:\n",
        "N = 4\n",
        "value[] = {1,2,3,4}\n",
        "X = 1\n",
        "Output:1\n",
        "</aside>"
      ],
      "metadata": {
        "id": "OkYmE4Iq1ULF"
      }
    },
    {
      "cell_type": "code",
      "source": [
        "class ListNode:\n",
        "    def __init__(self, val=0, next=None):\n",
        "        self.val = val\n",
        "        self.next = next\n",
        "\n",
        "def detectAndRemoveLoop(head):\n",
        "    if not head or not head.next:\n",
        "        return head\n",
        "    \n",
        "    slow = head\n",
        "    fast = head\n",
        "    \n",
        "    while fast and fast.next:\n",
        "        slow = slow.next\n",
        "        fast = fast.next.next\n",
        "        \n",
        "        if slow == fast:\n",
        "            break\n",
        "    \n",
        "    # No loop found\n",
        "    if not fast or not fast.next:\n",
        "        return head\n",
        "    \n",
        "    slow = head\n",
        "    while slow.next != fast.next:\n",
        "        slow = slow.next\n",
        "        fast = fast.next\n",
        "    \n",
        "    # Remove the loop\n",
        "    fast.next = None\n",
        "    \n",
        "    return head"
      ],
      "metadata": {
        "id": "anUGLYrr1KgE"
      },
      "execution_count": 14,
      "outputs": []
    },
    {
      "cell_type": "code",
      "source": [
        "# Test the function\n",
        "# Example 1\n",
        "head1 = ListNode(1)\n",
        "head1.next = ListNode(3)\n",
        "head1.next.next = ListNode(4)\n",
        "head1.next.next.next = head1.next \n",
        "\n",
        "new_head1 = detectAndRemoveLoop(head1)\n",
        "current1 = new_head1\n",
        "while current1:\n",
        "    print(current1.val, end=\" \")\n",
        "    current1 = current1.next\n",
        "print()\n",
        "\n",
        "# Example 2\n",
        "head2 = ListNode(1)\n",
        "head2.next = ListNode(8)\n",
        "head2.next.next = ListNode(3)\n",
        "head2.next.next.next = ListNode(4)\n",
        "\n",
        "new_head2 = detectAndRemoveLoop(head2)\n",
        "current2 = new_head2\n",
        "while current2:\n",
        "    print(current2.val, end=\" \")\n",
        "    current2 = current2.next\n",
        "print()\n",
        "\n",
        "# Example 3\n",
        "head3 = ListNode(1)\n",
        "head3.next = ListNode(2)\n",
        "head3.next.next = ListNode(3)\n",
        "head3.next.next.next = ListNode(4)\n",
        "head3.next.next.next.next = head3  \n",
        "\n",
        "new_head3 = detectAndRemoveLoop(head3)\n",
        "current3 = new_head3\n",
        "while current3:\n",
        "    print(current3.val, end=\" \")\n",
        "    current3 = current3.next\n",
        "print()"
      ],
      "metadata": {
        "colab": {
          "base_uri": "https://localhost:8080/"
        },
        "id": "y6gn1nYe2Iam",
        "outputId": "96126fb6-5868-4bef-846d-60ec5a3d1435"
      },
      "execution_count": 15,
      "outputs": [
        {
          "output_type": "stream",
          "name": "stdout",
          "text": [
            "1 3 4 \n",
            "1 8 3 4 \n",
            "1 \n"
          ]
        }
      ]
    },
    {
      "cell_type": "markdown",
      "source": [
        "<aside>\n",
        "💡 **Question 6**\n",
        "\n",
        "Given a linked list and two integers M and N. Traverse the linked list such that you retain M nodes then delete next N nodes, continue the same till end of the linked list.\n",
        "\n",
        "</aside>\n",
        "Examples:\n",
        "Input:\n",
        "M = 2, N = 2\n",
        "Linked List: 1->2->3->4->5->6->7->8\n",
        "Output:\n",
        "Linked List: 1->2->5->6\n",
        "\n",
        "Input:\n",
        "M = 3, N = 2\n",
        "Linked List: 1->2->3->4->5->6->7->8->9->10\n",
        "Output:\n",
        "Linked List: 1->2->3->6->7->8\n",
        "\n",
        "Input:\n",
        "M = 1, N = 1\n",
        "Linked List: 1->2->3->4->5->6->7->8->9->10\n",
        "Output:\n",
        "Linked List: 1->3->5->7->9"
      ],
      "metadata": {
        "id": "SqNolhNKOSgE"
      }
    },
    {
      "cell_type": "code",
      "source": [
        "class ListNode:\n",
        "    def __init__(self, val=0, next=None):\n",
        "        self.val = val\n",
        "        self.next = next\n",
        "\n",
        "def deleteNodes(head, M, N):\n",
        "    if not head:\n",
        "        return None\n",
        "    \n",
        "    current = head\n",
        "    \n",
        "    while current:\n",
        "        for _ in range(M - 1):\n",
        "            if not current:\n",
        "                break\n",
        "            current = current.next\n",
        "        \n",
        "        if not current:\n",
        "            break\n",
        "        \n",
        "        temp = current.next\n",
        "        \n",
        "        for _ in range(N):\n",
        "            if not temp:\n",
        "                break\n",
        "            temp = temp.next\n",
        "        \n",
        "        current.next = temp\n",
        "        current = temp\n",
        "    \n",
        "    return head\n"
      ],
      "metadata": {
        "id": "q4YjrKrnOR0Z"
      },
      "execution_count": 16,
      "outputs": []
    },
    {
      "cell_type": "code",
      "source": [
        "# Test Case 1\n",
        "head1 = ListNode(1)\n",
        "head1.next = ListNode(2)\n",
        "head1.next.next = ListNode(3)\n",
        "head1.next.next.next = ListNode(4)\n",
        "head1.next.next.next.next = ListNode(5)\n",
        "head1.next.next.next.next.next = ListNode(6)\n",
        "head1.next.next.next.next.next.next = ListNode(7)\n",
        "head1.next.next.next.next.next.next.next = ListNode(8)\n",
        "\n",
        "new_head1 = deleteNodes(head1, 2, 2)\n",
        "\n",
        "# Traverse the modified linked list and print the values\n",
        "while new_head1:\n",
        "    print(new_head1.val, end=\" \")\n",
        "    new_head1 = new_head1.next\n",
        "\n",
        "print()\n",
        "\n",
        "# Test Case 2\n",
        "head2 = ListNode(1)\n",
        "head2.next = ListNode(2)\n",
        "head2.next.next = ListNode(3)\n",
        "head2.next.next.next = ListNode(4)\n",
        "head2.next.next.next.next = ListNode(5)\n",
        "head2.next.next.next.next.next = ListNode(6)\n",
        "head2.next.next.next.next.next.next = ListNode(7)\n",
        "head2.next.next.next.next.next.next.next = ListNode(8)\n",
        "head2.next.next.next.next.next.next.next.next = ListNode(9)\n",
        "head2.next.next.next.next.next.next.next.next.next = ListNode(10)\n",
        "\n",
        "new_head2 = deleteNodes(head2, 3, 2)\n",
        "\n",
        "# Traverse the modified linked list and print the values\n",
        "while new_head2:\n",
        "    print(new_head2.val, end=\" \")\n",
        "    new_head2 = new_head2.next\n",
        "\n",
        "print()\n",
        "\n",
        "\n"
      ],
      "metadata": {
        "colab": {
          "base_uri": "https://localhost:8080/"
        },
        "id": "CsQ6YZzZ2WFP",
        "outputId": "0c3a1f3d-083c-41b7-8434-309ed85c2630"
      },
      "execution_count": 17,
      "outputs": [
        {
          "output_type": "stream",
          "name": "stdout",
          "text": [
            "1 2 5 6 \n",
            "1 2 3 6 7 8 \n"
          ]
        }
      ]
    },
    {
      "cell_type": "markdown",
      "source": [
        "<aside>\n",
        "💡 **Question 7**\n",
        "\n",
        "Given two linked lists, insert nodes of second list into first list at alternate positions of first list.\n",
        "For example, if first list is 5->7->17->13->11 and second is 12->10->2->4->6, the first list should become 5->12->7->10->17->2->13->4->11->6 and second list should become empty. The nodes of second list should only be inserted when there are positions available. For example, if the first list is 1->2->3 and second list is 4->5->6->7->8, then first list should become 1->4->2->5->3->6 and second list to 7->8.\n",
        "\n",
        "Use of extra space is not allowed (Not allowed to create additional nodes), i.e., insertion must be done in-place. Expected time complexity is O(n) where n is number of nodes in first list.\n",
        "\n",
        "</aside>"
      ],
      "metadata": {
        "id": "rMhjI_trPrJk"
      }
    },
    {
      "cell_type": "code",
      "source": [
        "class ListNode:\n",
        "    def __init__(self, val=0, next=None):\n",
        "        self.val = val\n",
        "        self.next = next\n",
        "\n",
        "def mergeLists(first, second):\n",
        "    if not second:\n",
        "        return first\n",
        "    \n",
        "    curr1 = first\n",
        "    curr2 = second\n",
        "    \n",
        "    while curr1 and curr2:\n",
        "        next1 = curr1.next\n",
        "        next2 = curr2.next\n",
        "        \n",
        "        curr1.next = curr2\n",
        "        curr2.next = next1\n",
        "        \n",
        "        curr1 = next1\n",
        "        curr2 = next2\n",
        "    \n",
        "    return first"
      ],
      "metadata": {
        "id": "sU5lnhkTPKDH"
      },
      "execution_count": 18,
      "outputs": []
    },
    {
      "cell_type": "code",
      "source": [
        "# Test the function\n",
        "# Create the first linked list: 5->7->17->13->11\n",
        "head1 = ListNode(5)\n",
        "head1.next = ListNode(7)\n",
        "head1.next.next = ListNode(17)\n",
        "head1.next.next.next = ListNode(13)\n",
        "head1.next.next.next.next = ListNode(11)\n",
        "\n",
        "# Create the second linked list: 12->10->2->4->6\n",
        "head2 = ListNode(12)\n",
        "head2.next = ListNode(10)\n",
        "head2.next.next = ListNode(2)\n",
        "head2.next.next.next = ListNode(4)\n",
        "head2.next.next.next.next = ListNode(6)\n",
        "\n",
        "# Merge the second list into the first list\n",
        "merged_head = mergeLists(head1, head2)\n",
        "\n",
        "# Traverse the modified first list and print the values\n",
        "while merged_head:\n",
        "    print(merged_head.val, end=\" \")\n",
        "    merged_head = merged_head.next\n",
        "\n",
        "\n",
        "# Print the second list (which should be empty)\n",
        "print()\n",
        "\n",
        "# Traverse the second list and print the values (should be empty)\n",
        "while head2:\n",
        "    print(head2.val, end=\" \")\n",
        "    head2 = head2.next"
      ],
      "metadata": {
        "colab": {
          "base_uri": "https://localhost:8080/"
        },
        "id": "dZdTThKxP-pB",
        "outputId": "91d2f494-a334-46b7-92dc-d4a66c645178"
      },
      "execution_count": 19,
      "outputs": [
        {
          "output_type": "stream",
          "name": "stdout",
          "text": [
            "5 12 7 10 17 2 13 4 11 6 \n",
            "12 7 10 17 2 13 4 11 6 "
          ]
        }
      ]
    },
    {
      "cell_type": "markdown",
      "source": [
        "<aside>\n",
        "💡 **Question 8**\n",
        "\n",
        "Given a singly linked list, find if the linked list is [circular](https://www.geeksforgeeks.org/circular-linked-list/amp/) or not.\n",
        "\n",
        "> A linked list is called circular if it is not NULL-terminated and all nodes are connected in the form of a cycle. Below is an example of a circular linked list.\n",
        "> \n",
        "</aside>"
      ],
      "metadata": {
        "id": "hRxsiUk3QXNh"
      }
    },
    {
      "cell_type": "code",
      "source": [
        "class ListNode:\n",
        "    def __init__(self, val=0, next=None):\n",
        "        self.val = val\n",
        "        self.next = next\n",
        "\n",
        "def isCircular(head):\n",
        "    if not head:\n",
        "        return False\n",
        "    \n",
        "    tortoise = head\n",
        "    hare = head.next\n",
        "    \n",
        "    while hare and hare.next:\n",
        "        if tortoise == hare:\n",
        "            return True\n",
        "        \n",
        "        tortoise = tortoise.next\n",
        "        hare = hare.next.next\n",
        "    \n",
        "    return False"
      ],
      "metadata": {
        "id": "QbGH_1EIQFsq"
      },
      "execution_count": 20,
      "outputs": []
    },
    {
      "cell_type": "code",
      "source": [
        "# Create a circular linked list: 1->2->3->4->5->2 (linked back to the second node)\n",
        "head = ListNode(1)\n",
        "head.next = ListNode(2)\n",
        "head.next.next = ListNode(3)\n",
        "\n",
        "head.next.next.next = ListNode(4)\n",
        "head.next.next.next.next = ListNode(5)\n",
        "head.next.next.next.next.next = head.next\n",
        "\n",
        "# Check if the linked list is circular\n",
        "circular = isCircular(head)\n",
        "print(circular)"
      ],
      "metadata": {
        "colab": {
          "base_uri": "https://localhost:8080/"
        },
        "id": "HG25R4LZQkvL",
        "outputId": "65bf338d-5730-4242-9696-e2a4412b74e5"
      },
      "execution_count": 21,
      "outputs": [
        {
          "output_type": "stream",
          "name": "stdout",
          "text": [
            "True\n"
          ]
        }
      ]
    },
    {
      "cell_type": "code",
      "source": [],
      "metadata": {
        "id": "dJ1BrQpYQre2"
      },
      "execution_count": null,
      "outputs": []
    }
  ]
}