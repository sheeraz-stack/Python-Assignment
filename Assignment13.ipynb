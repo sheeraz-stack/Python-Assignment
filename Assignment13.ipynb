{
  "nbformat": 4,
  "nbformat_minor": 0,
  "metadata": {
    "colab": {
      "provenance": [],
      "authorship_tag": "ABX9TyPJ6iOyyrcQ3XpHKT7mkPXR",
      "include_colab_link": true
    },
    "kernelspec": {
      "name": "python3",
      "display_name": "Python 3"
    },
    "language_info": {
      "name": "python"
    }
  },
  "cells": [
    {
      "cell_type": "markdown",
      "metadata": {
        "id": "view-in-github",
        "colab_type": "text"
      },
      "source": [
        "<a href=\"https://colab.research.google.com/github/jayant3297/Pre_Placement_Training/blob/main/Assignment13.ipynb\" target=\"_parent\"><img src=\"https://colab.research.google.com/assets/colab-badge.svg\" alt=\"Open In Colab\"/></a>"
      ]
    },
    {
      "cell_type": "markdown",
      "source": [
        "Given two linked list of the same size, the task is to create a new linked list using those linked lists. The condition is that the greater node among both linked list will be added to the new linked list.\n",
        "\n",
        "**Examples:**\n",
        "\n",
        "Input: list1 = 5->2->3->8\n",
        "list2 = 1->7->4->5\n",
        "Output: New list = 5->7->4->8\n",
        "\n",
        "Input:list1 = 2->8->9->3\n",
        "list2 = 5->3->6->4\n",
        "Output: New list = 5->8->9->4"
      ],
      "metadata": {
        "id": "6FdMemXUwLff"
      }
    },
    {
      "cell_type": "code",
      "source": [
        "class Node:\n",
        "    def __init__(self, data):\n",
        "        self.data = data\n",
        "        self.next = None"
      ],
      "metadata": {
        "id": "OookAKlox519"
      },
      "execution_count": 8,
      "outputs": []
    },
    {
      "cell_type": "code",
      "execution_count": 10,
      "metadata": {
        "id": "W2nWU3Ysv5hj"
      },
      "outputs": [],
      "source": [
        "def merge_lists(list1, list2):\n",
        "    ptr1 = list1\n",
        "    ptr2 = list2\n",
        "    newList = None\n",
        "    newPtr = None\n",
        "\n",
        "    while ptr1 and ptr2:\n",
        "        if ptr1.data >= ptr2.data:\n",
        "            if newList is None:\n",
        "                newList = Node(ptr1.data)\n",
        "                newPtr = newList\n",
        "            else:\n",
        "                newPtr.next = Node(ptr1.data)\n",
        "                newPtr = newPtr.next\n",
        "            ptr1 = ptr1.next\n",
        "        else:\n",
        "            if newList is None:\n",
        "                newList = Node(ptr2.data)\n",
        "                newPtr = newList\n",
        "            else:\n",
        "                newPtr.next = Node(ptr2.data)\n",
        "                newPtr = newPtr.next\n",
        "            ptr2 = ptr2.next\n",
        "\n",
        "    # Append remaining nodes from list1, if any\n",
        "    while ptr1:\n",
        "        newPtr.next = Node(ptr1.data)\n",
        "        newPtr = newPtr.next\n",
        "        ptr1 = ptr1.next\n",
        "\n",
        "    # Append remaining nodes from list2, if any\n",
        "    while ptr2:\n",
        "        newPtr.next = Node(ptr2.data)\n",
        "        newPtr = newPtr.next\n",
        "        ptr2 = ptr2.next\n",
        "\n",
        "    return newList"
      ]
    },
    {
      "cell_type": "code",
      "source": [
        "list1 = Node(5)\n",
        "list1.next = Node(2)\n",
        "list1.next.next = Node(3)\n",
        "list1.next.next.next = Node(8)\n",
        "\n",
        "list2 = Node(1)\n",
        "list2.next = Node(7)\n",
        "list2.next.next = Node(4)\n",
        "list2.next.next.next = Node(5)\n",
        "\n",
        "result = merge_lists(list1, list2)\n",
        "\n",
        "# Print the resulting linked list\n",
        "while result:\n",
        "    print(result.data, end=' ')\n",
        "    result = result.next"
      ],
      "metadata": {
        "colab": {
          "base_uri": "https://localhost:8080/"
        },
        "id": "PWFzHUqXwVko",
        "outputId": "b2f7dea9-4607-4f16-dd81-258570532895"
      },
      "execution_count": 11,
      "outputs": [
        {
          "output_type": "stream",
          "name": "stdout",
          "text": [
            "5 2 3 8 1 7 4 5 "
          ]
        }
      ]
    },
    {
      "cell_type": "markdown",
      "source": [
        "<aside>\n",
        "💡 **Question 2**\n",
        "\n",
        "Write a function that takes a list sorted in non-decreasing order and deletes any duplicate nodes from the list. The list should only be traversed once.\n",
        "\n",
        "For example if the linked list is 11->11->11->21->43->43->60 then removeDuplicates() should convert the list to 11->21->43->60.\n",
        "\n",
        "**Example 1:**\n",
        "\n",
        "</aside>\n",
        "\n",
        "Input:\n",
        "LinkedList:\n",
        "11->11->11->21->43->43->60\n",
        "Output:\n",
        "11->21->43->60"
      ],
      "metadata": {
        "id": "MuksxIrYwKO3"
      }
    },
    {
      "cell_type": "code",
      "source": [
        "class Node:\n",
        "    def __init__(self, data):\n",
        "        self.data = data\n",
        "        self.next = None\n",
        "\n",
        "def removeDuplicates(head):\n",
        "    if head is None:\n",
        "        return head\n",
        "\n",
        "    current = head\n",
        "    while current.next is not None:\n",
        "        if current.data == current.next.data:\n",
        "            current.next = current.next.next\n",
        "        else:\n",
        "            current = current.next\n",
        "\n",
        "    return head\n"
      ],
      "metadata": {
        "id": "RuRfeEM2z8l8"
      },
      "execution_count": 12,
      "outputs": []
    },
    {
      "cell_type": "code",
      "source": [
        "# Example usage:\n",
        "# LinkedList: 11->11->11->21->43->43->60\n",
        "head = Node(11)\n",
        "head.next = Node(11)\n",
        "head.next.next = Node(11)\n",
        "head.next.next.next = Node(21)\n",
        "head.next.next.next.next = Node(43)\n",
        "head.next.next.next.next.next = Node(43)\n",
        "head.next.next.next.next.next.next = Node(60)\n",
        "\n",
        "result = removeDuplicates(head)\n",
        "\n",
        "# Print the resulting linked list\n",
        "while result is not None:\n",
        "    print(result.data, end=' ')\n",
        "    result = result.next\n"
      ],
      "metadata": {
        "colab": {
          "base_uri": "https://localhost:8080/"
        },
        "id": "5ourH1gkz_wo",
        "outputId": "fab4cf50-b902-420b-bc5e-b71fcd5db20a"
      },
      "execution_count": 13,
      "outputs": [
        {
          "output_type": "stream",
          "name": "stdout",
          "text": [
            "11 21 43 60 "
          ]
        }
      ]
    },
    {
      "cell_type": "markdown",
      "source": [
        "<aside>\n",
        "💡 **Question 3**\n",
        "\n",
        "Given a linked list of size **N**. The task is to reverse every **k** nodes (where k is an input to the function) in the linked list. If the number of nodes is not a multiple of *k* then left-out nodes, in the end, should be considered as a group and must be reversed (See Example 2 for clarification).\n",
        "\n",
        "**Example 1:**\n",
        "\n",
        "</aside>\n",
        "\n",
        "Input:\n",
        "LinkedList: 1->2->2->4->5->6->7->8\n",
        "K = 4\n",
        "Output:4 2 2 1 8 7 6 5\n",
        "Explanation:\n",
        "The first 4 elements 1,2,2,4 are reversed first\n",
        "and then the next 4 elements 5,6,7,8. Hence, the\n",
        "resultant linked list is 4->2->2->1->8->7->6->5."
      ],
      "metadata": {
        "id": "JkHgPZz70QN9"
      }
    },
    {
      "cell_type": "code",
      "source": [
        "class Node:\n",
        "    def __init__(self, data):\n",
        "        self.data = data\n",
        "        self.next = None\n",
        "\n",
        "def reverseKNodes(head, k):\n",
        "    if head is None:\n",
        "        return None\n",
        "\n",
        "    current = head\n",
        "    next_node = None\n",
        "    prev_node = None\n",
        "    count = 0\n",
        "\n",
        "    # Reverse the first k nodes of the linked list\n",
        "    while current is not None and count < k:\n",
        "        next_node = current.next\n",
        "        current.next = prev_node\n",
        "        prev_node = current\n",
        "        current = next_node\n",
        "        count += 1\n",
        "\n",
        "    # Recursive call to reverse the next group of k nodes\n",
        "    if next_node is not None:\n",
        "        head.next = reverseKNodes(next_node, k)\n",
        "\n",
        "    return prev_node"
      ],
      "metadata": {
        "id": "_6G1YcMm0giV"
      },
      "execution_count": 15,
      "outputs": []
    },
    {
      "cell_type": "code",
      "source": [
        "head = Node(1)\n",
        "head.next = Node(2)\n",
        "head.next.next = Node(2)\n",
        "head.next.next.next = Node(4)\n",
        "head.next.next.next.next = Node(5)\n",
        "head.next.next.next.next.next = Node(6)\n",
        "head.next.next.next.next.next.next = Node(7)\n",
        "head.next.next.next.next.next.next.next = Node(8)\n",
        "\n",
        "k = 4\n",
        "\n",
        "result = reverseKNodes(head, k)\n",
        "\n",
        "# Print the resulting linked list\n",
        "while result is not None:\n",
        "    print(result.data, end=' ')\n",
        "    result = result.next"
      ],
      "metadata": {
        "colab": {
          "base_uri": "https://localhost:8080/"
        },
        "id": "Fc4zMett0ojM",
        "outputId": "328a9b0b-4c7b-45bb-e621-b5485491bb3d"
      },
      "execution_count": 16,
      "outputs": [
        {
          "output_type": "stream",
          "name": "stdout",
          "text": [
            "4 2 2 1 8 7 6 5 "
          ]
        }
      ]
    },
    {
      "cell_type": "markdown",
      "source": [
        "<aside>\n",
        "💡 **Question 4**\n",
        "\n",
        "Given a linked list, write a function to reverse every alternate k nodes (where k is an input to the function) in an efficient way. Give the complexity of your algorithm.\n",
        "\n",
        "**Example:**\n",
        "\n",
        "</aside>\n",
        "\n",
        "Inputs:   1->2->3->4->5->6->7->8->9->NULL and k = 3\n",
        "Output:   3->2->1->4->5->6->9->8->7->NULL."
      ],
      "metadata": {
        "id": "rYXx3X13wASL"
      }
    },
    {
      "cell_type": "code",
      "source": [
        "import math\n",
        "\n",
        "# Link list node\n",
        "class Node:\n",
        "    def __init__(self, data):\n",
        "        self.data = data\n",
        "        self.next = None\n",
        "\n",
        "# Reverses alternate k nodes and\n",
        "#returns the pointer to the new head node\n",
        "def kAltReverse(head, k) :\n",
        "    current = head\n",
        "    next = None\n",
        "    prev = None\n",
        "    count = 0\n",
        "\n",
        "    #1) reverse first k nodes of the linked list\n",
        "    while (current != None and count < k) :\n",
        "        next = current.next\n",
        "        current.next = prev\n",
        "        prev = current\n",
        "        current = next\n",
        "        count = count + 1;\n",
        "\n",
        "    # 2) Now head pos to the kth node.\n",
        "    # So change next of head to (k+1)th node\n",
        "    if(head != None):\n",
        "        head.next = current\n",
        "\n",
        "    # 3) We do not want to reverse next k\n",
        "    # nodes. So move the current\n",
        "    # pointer to skip next k nodes\n",
        "    count = 0\n",
        "    while(count < k - 1 and current != None ):\n",
        "        current = current.next\n",
        "        count = count + 1\n",
        "\n",
        "    # 4) Recursively call for the list\n",
        "    # starting from current.next. And make\n",
        "    # rest of the list as next of first node\n",
        "    if(current != None):\n",
        "        current.next = kAltReverse(current.next, k)\n",
        "\n",
        "    # 5) prev is new head of the input list\n",
        "    return prev\n",
        "\n",
        "\n",
        "# Function to push a node\n",
        "def push(head_ref, new_data):\n",
        "\n",
        "    # allocate node\n",
        "    new_node = Node(new_data)\n",
        "\n",
        "    # put in the data\n",
        "    # new_node.data = new_data\n",
        "\n",
        "    # link the old list of the new node\n",
        "    new_node.next = head_ref\n",
        "\n",
        "    # move the head to po to the new node\n",
        "    head_ref = new_node\n",
        "\n",
        "    return head_ref\n",
        "\n",
        "def printList(node):\n",
        "    count = 0\n",
        "    while(node != None):\n",
        "        print(node.data, end = \" \")\n",
        "        node = node.next\n",
        "        count = count + 1\n",
        ""
      ],
      "metadata": {
        "id": "bq7Nayjt08J3"
      },
      "execution_count": 36,
      "outputs": []
    },
    {
      "cell_type": "code",
      "source": [
        "head = None\n",
        "\n",
        "\n",
        "for i in range(9, 0, -1):\n",
        "    head = push(head, i)\n",
        "\n",
        "print(\"Given linked list \")\n",
        "printList(head)\n",
        "k = 3\n",
        "\n",
        "head = kAltReverse(head, 3)\n",
        "\n",
        "print(\"\\nModified Linked list\")\n",
        "printList(head)"
      ],
      "metadata": {
        "colab": {
          "base_uri": "https://localhost:8080/"
        },
        "id": "LDZ0ed6f1RDy",
        "outputId": "7f76f9b1-59ad-4684-afb9-213a1632490c"
      },
      "execution_count": 41,
      "outputs": [
        {
          "output_type": "stream",
          "name": "stdout",
          "text": [
            "Given linked list \n",
            "1 2 3 4 5 6 7 8 9 \n",
            "Modified Linked list\n",
            "3 2 1 4 5 6 9 8 7 "
          ]
        }
      ]
    },
    {
      "cell_type": "markdown",
      "source": [
        "<aside>\n",
        "💡 **Question 5**\n",
        "\n",
        "Given a linked list and a key to be deleted. Delete last occurrence of key from linked. The list may have duplicates.\n",
        "\n",
        "**Examples**:\n",
        "\n",
        "</aside>\n",
        "\n",
        "Input:   1->2->3->5->2->10, key = 2\n",
        "Output:  1->2->3->5->10"
      ],
      "metadata": {
        "id": "UoE46uZY3nLn"
      }
    },
    {
      "cell_type": "code",
      "source": [
        "class Node:\n",
        "    def __init__(self, data):\n",
        "        self.data = data\n",
        "        self.next = None\n",
        "\n",
        "def deleteLastOccurrence(head, key):\n",
        "    if head is None:\n",
        "        return None\n",
        "\n",
        "    # Keep track of the last occurrence and the previous node\n",
        "    last_occurrence = None\n",
        "    prev = None\n",
        "\n",
        "    current = head\n",
        "    prev_node = None\n",
        "\n",
        "    # Traverse the linked list\n",
        "    while current is not None:\n",
        "        if current.data == key:\n",
        "            last_occurrence = current\n",
        "            prev = prev_node\n",
        "        prev_node = current\n",
        "        current = current.next\n",
        "\n",
        "    # If last occurrence is found\n",
        "    if last_occurrence is not None:\n",
        "        # If it is the first node, update the head\n",
        "        if prev is None:\n",
        "            head = head.next\n",
        "        else:\n",
        "            prev.next = last_occurrence.next\n",
        "\n",
        "    return head"
      ],
      "metadata": {
        "id": "iUuUcZ871U01"
      },
      "execution_count": 28,
      "outputs": []
    },
    {
      "cell_type": "code",
      "source": [
        "head = Node(1)\n",
        "head.next = Node(2)\n",
        "head.next.next = Node(3)\n",
        "head.next.next.next = Node(5)\n",
        "head.next.next.next.next = Node(2)\n",
        "head.next.next.next.next.next = Node(10)\n",
        "\n",
        "key = 2\n",
        "\n",
        "result = deleteLastOccurrence(head, key)\n",
        "\n",
        "# Print the resulting linked list\n",
        "while result is not None:\n",
        "    print(result.data, end=' ')\n",
        "    result = result.next"
      ],
      "metadata": {
        "colab": {
          "base_uri": "https://localhost:8080/"
        },
        "id": "u9LPvUDm4BQV",
        "outputId": "f48e383e-55c3-4147-a5ca-870799f38e8d"
      },
      "execution_count": 29,
      "outputs": [
        {
          "output_type": "stream",
          "name": "stdout",
          "text": [
            "1 2 3 5 10 "
          ]
        }
      ]
    },
    {
      "cell_type": "markdown",
      "source": [
        "<aside>\n",
        "💡 **Question 6**\n",
        "\n",
        "Given two sorted linked lists consisting of **N** and **M** nodes respectively. The task is to merge both of the lists (in place) and return the head of the merged list.\n",
        "\n",
        "**Examples:**\n",
        "\n",
        "</aside>\n",
        "\n",
        "Input: a: 5->10->15, b: 2->3->20\n",
        "\n",
        "Output: 2->3->5->10->15->20"
      ],
      "metadata": {
        "id": "iBUza9Rc4LFf"
      }
    },
    {
      "cell_type": "code",
      "source": [
        "class Node:\n",
        "    def __init__(self, data):\n",
        "        self.data = data\n",
        "        self.next = None\n",
        "\n",
        "def mergeSortedLists(a, b):\n",
        "    # If either list is empty, return the other list\n",
        "    if a is None:\n",
        "        return b\n",
        "    if b is None:\n",
        "        return a\n",
        "\n",
        "    # Initialize pointers for the merged list and two input lists\n",
        "    merged_head = None\n",
        "    merged_tail = None\n",
        "    ptr1 = a\n",
        "    ptr2 = b\n",
        "\n",
        "    # Set the head of the merged list to the smaller first node\n",
        "    if ptr1.data <= ptr2.data:\n",
        "        merged_head = ptr1\n",
        "        ptr1 = ptr1.next\n",
        "    else:\n",
        "        merged_head = ptr2\n",
        "        ptr2 = ptr2.next\n",
        "    merged_tail = merged_head\n",
        "\n",
        "    # Merge the lists by comparing and rearranging the pointers\n",
        "    while ptr1 is not None and ptr2 is not None:\n",
        "        if ptr1.data <= ptr2.data:\n",
        "            merged_tail.next = ptr1\n",
        "            ptr1 = ptr1.next\n",
        "        else:\n",
        "            merged_tail.next = ptr2\n",
        "            ptr2 = ptr2.next\n",
        "        merged_tail = merged_tail.next\n",
        "\n",
        "    # Append any remaining nodes from the first list\n",
        "    if ptr1 is not None:\n",
        "        merged_tail.next = ptr1\n",
        "\n",
        "    # Append any remaining nodes from the second list\n",
        "    if ptr2 is not None:\n",
        "        merged_tail.next = ptr2\n",
        "\n",
        "    return merged_head\n"
      ],
      "metadata": {
        "id": "0AQyASMB4EJY"
      },
      "execution_count": 30,
      "outputs": []
    },
    {
      "cell_type": "code",
      "source": [
        "a = Node(5)\n",
        "a.next = Node(10)\n",
        "a.next.next = Node(15)\n",
        "\n",
        "b = Node(2)\n",
        "b.next = Node(3)\n",
        "b.next.next = Node(20)\n",
        "\n",
        "merged = mergeSortedLists(a, b)\n",
        "\n",
        "# Print the merged list\n",
        "while merged is not None:\n",
        "    print(merged.data, end=' ')\n",
        "    merged = merged.next"
      ],
      "metadata": {
        "colab": {
          "base_uri": "https://localhost:8080/"
        },
        "id": "p3YNGcLs4qo7",
        "outputId": "b25647ec-6d01-4c04-9bcb-547148ce5d76"
      },
      "execution_count": 31,
      "outputs": [
        {
          "output_type": "stream",
          "name": "stdout",
          "text": [
            "2 3 5 10 15 20 "
          ]
        }
      ]
    },
    {
      "cell_type": "markdown",
      "source": [
        "<aside>\n",
        "💡 **Question 7**\n",
        "\n",
        "Given a **Doubly Linked List**, the task is to reverse the given Doubly Linked List.\n",
        "\n",
        "**Example:**\n",
        "\n",
        "</aside>\n",
        "\n",
        "Original Linked list 10 8 4 2\n",
        "Reversed Linked list 2 4 8 10"
      ],
      "metadata": {
        "id": "rdZfh6YJ48ZU"
      }
    },
    {
      "cell_type": "code",
      "source": [
        "class Node:\n",
        "    def __init__(self, data):\n",
        "        self.data = data\n",
        "        self.prev = None\n",
        "        self.next = None\n",
        "\n",
        "def reverseDoublyLinkedList(head):\n",
        "    if head is None:\n",
        "        return None\n",
        "\n",
        "    current = head\n",
        "\n",
        "    # Swap prev and next pointers for each node\n",
        "    while current is not None:\n",
        "        temp = current.prev\n",
        "        current.prev = current.next\n",
        "        current.next = temp\n",
        "        current = current.prev\n",
        "\n",
        "    # Update the head\n",
        "    head = temp.prev\n",
        "\n",
        "    return head"
      ],
      "metadata": {
        "id": "uOC6WBes4xAT"
      },
      "execution_count": 32,
      "outputs": []
    },
    {
      "cell_type": "code",
      "source": [
        "head = Node(10)\n",
        "node1 = Node(8)\n",
        "node2 = Node(4)\n",
        "node3 = Node(2)\n",
        "\n",
        "head.next = node1\n",
        "node1.prev = head\n",
        "node1.next = node2\n",
        "node2.prev = node1\n",
        "node2.next = node3\n",
        "node3.prev = node2\n",
        "\n",
        "reversed_head = reverseDoublyLinkedList(head)\n",
        "\n",
        "# Print the reversed linked list\n",
        "current = reversed_head\n",
        "while current is not None:\n",
        "    print(current.data, end=' ')\n",
        "    current = current.next"
      ],
      "metadata": {
        "colab": {
          "base_uri": "https://localhost:8080/"
        },
        "id": "nEatC8785p1d",
        "outputId": "cfd6c179-1a80-494e-acd9-27ba892332db"
      },
      "execution_count": 33,
      "outputs": [
        {
          "output_type": "stream",
          "name": "stdout",
          "text": [
            "2 4 8 10 "
          ]
        }
      ]
    },
    {
      "cell_type": "markdown",
      "source": [
        "<aside>\n",
        "💡 **Question 8**\n",
        "\n",
        "Given a doubly linked list and a position. The task is to delete a node from given position in a doubly linked list.\n",
        "\n",
        "**Example 1:**\n",
        "\n",
        "</aside>\n",
        "\n",
        "Input:\n",
        "LinkedList = 1 <--> 3 <--> 4\n",
        "x = 3\n",
        "Output:1 3\n",
        "Explanation:After deleting the node at\n",
        "position 3 (position starts from 1),\n",
        "the linked list will be now as 1->3.\n"
      ],
      "metadata": {
        "id": "dSRaFNQL56Sm"
      }
    },
    {
      "cell_type": "code",
      "source": [
        "class Node:\n",
        "    def __init__(self, data):\n",
        "        self.data = data\n",
        "        self.prev = None\n",
        "        self.next = None\n",
        "\n",
        "def deleteNode(head, position):\n",
        "    if head is None:\n",
        "        return None\n",
        "\n",
        "    # If the position is 1, update the head\n",
        "    if position == 1:\n",
        "        head = head.next\n",
        "        if head is not None:\n",
        "            head.prev = None\n",
        "        return head\n",
        "\n",
        "    current = head\n",
        "    count = 1\n",
        "\n",
        "    # Traverse to the node at the given position\n",
        "    while current is not None and count < position:\n",
        "        current = current.next\n",
        "        count += 1\n",
        "\n",
        "    # If position is out of range, return the original list\n",
        "    if current is None:\n",
        "        return head\n",
        "\n",
        "    # Update the previous and next pointers\n",
        "    prev_node = current.prev\n",
        "    next_node = current.next\n",
        "\n",
        "    if prev_node is not None:\n",
        "        prev_node.next = next_node\n",
        "    if next_node is not None:\n",
        "        next_node.prev = prev_node\n",
        "\n",
        "    return head"
      ],
      "metadata": {
        "id": "dcCAWXmJ504S"
      },
      "execution_count": 34,
      "outputs": []
    },
    {
      "cell_type": "code",
      "source": [
        "head = Node(1)\n",
        "node1 = Node(3)\n",
        "node2 = Node(4)\n",
        "\n",
        "head.next = node1\n",
        "node1.prev = head\n",
        "node1.next = node2\n",
        "node2.prev = node1\n",
        "\n",
        "position = 3\n",
        "\n",
        "result = deleteNode(head, position)\n",
        "\n",
        "# Print the resulting linked list\n",
        "current = result\n",
        "while current is not None:\n",
        "    print(current.data, end=' ')\n",
        "    current = current.next"
      ],
      "metadata": {
        "colab": {
          "base_uri": "https://localhost:8080/"
        },
        "id": "HYOmly4q7X5o",
        "outputId": "66634300-8408-4663-d63b-9bb65bad68db"
      },
      "execution_count": 35,
      "outputs": [
        {
          "output_type": "stream",
          "name": "stdout",
          "text": [
            "1 3 "
          ]
        }
      ]
    },
    {
      "cell_type": "code",
      "source": [],
      "metadata": {
        "id": "mNE9rZDo7cGe"
      },
      "execution_count": null,
      "outputs": []
    }
  ]
}