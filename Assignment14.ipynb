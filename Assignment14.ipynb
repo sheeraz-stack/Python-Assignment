{
  "nbformat": 4,
  "nbformat_minor": 0,
  "metadata": {
    "colab": {
      "provenance": [],
      "authorship_tag": "ABX9TyPUdmgygJ7PNnuyUhmGAxgc",
      "include_colab_link": true
    },
    "kernelspec": {
      "name": "python3",
      "display_name": "Python 3"
    },
    "language_info": {
      "name": "python"
    }
  },
  "cells": [
    {
      "cell_type": "markdown",
      "metadata": {
        "id": "view-in-github",
        "colab_type": "text"
      },
      "source": [
        "<a href=\"https://colab.research.google.com/github/jayant3297/Pre_Placement_Training/blob/main/Assignment14.ipynb\" target=\"_parent\"><img src=\"https://colab.research.google.com/assets/colab-badge.svg\" alt=\"Open In Colab\"/></a>"
      ]
    },
    {
      "cell_type": "markdown",
      "source": [
        "<aside>\n",
        "\n",
        "💡 **Question 1**\n",
        "\n",
        "Given a linked list of **N** nodes such that it may contain a loop.\n",
        "\n",
        "A loop here means that the last node of the link list is connected to the node at position X(1-based index). If the link list does not have any loop, X=0.\n",
        "\n",
        "Remove the loop from the linked list, if it is present, i.e. unlink the last node which is forming the loop.\n",
        "\n",
        "**Example 1:**\n",
        "\n",
        "</aside>\n",
        "\n",
        "Input:\n",
        "N = 3\n",
        "value[] = {1,3,4}\n",
        "X = 2\n",
        "Output:1\n",
        "Explanation:The link list looks like\n",
        "1 -> 3 -> 4\n",
        "     ^    |\n",
        "     |____|\n",
        "A loop is present. If you remove it\n",
        "successfully, the answer will be 1.\n"
      ],
      "metadata": {
        "id": "8ikHP2wjkMOs"
      }
    },
    {
      "cell_type": "code",
      "execution_count": 36,
      "metadata": {
        "id": "E7VcjeKnkEes"
      },
      "outputs": [],
      "source": [
        "class ListNode:\n",
        "    def __init__(self, val=0, next=None):\n",
        "        self.val = val\n",
        "        self.next = next\n",
        "\n",
        "\n",
        "def detectAndRemoveLoop(head):\n",
        "    if not head or not head.next:\n",
        "        return head\n",
        "\n",
        "    slow = head\n",
        "    fast = head\n",
        "\n",
        "    # Detect the loop using Floyd's Cycle-Finding Algorithm\n",
        "    while fast and fast.next:\n",
        "        slow = slow.next\n",
        "        fast = fast.next.next\n",
        "        if slow == fast:\n",
        "            break\n",
        "\n",
        "    # If there is no loop, return the linked list as is\n",
        "    if fast is None or fast.next is None:\n",
        "        return head\n",
        "\n",
        "    # If the loop starts at the head, find the last node before the head\n",
        "    if slow == head:\n",
        "        while fast.next != head:\n",
        "            fast = fast.next\n",
        "        fast.next = None\n",
        "        return head\n",
        "\n",
        "    # Move the slow pointer to the head\n",
        "    slow = head\n",
        "\n",
        "    # Move slow and fast pointers to find the loop starting point\n",
        "    while slow.next != fast.next:\n",
        "        slow = slow.next\n",
        "        fast = fast.next\n",
        "\n",
        "    # Unlink the last node from the loop\n",
        "    fast.next = None\n",
        "\n",
        "    return head"
      ]
    },
    {
      "cell_type": "code",
      "source": [
        "head = ListNode(1)\n",
        "node2 = ListNode(3)\n",
        "node3 = ListNode(4)\n",
        "node4 = ListNode(2)\n",
        "\n",
        "head.next = node2\n",
        "node2.next = node3\n",
        "node3.next = node4\n",
        "node4.next = head  # Creating a loop\n",
        "\n",
        "X = 2\n",
        "head = detectAndRemoveLoop(head)\n",
        "\n",
        "# Print the resulting linked list\n",
        "while head:\n",
        "    print(head.val, end=\" \")\n",
        "    head = head.next"
      ],
      "metadata": {
        "colab": {
          "base_uri": "https://localhost:8080/"
        },
        "id": "R4dDQmn8nS7W",
        "outputId": "f90ff5dd-edcf-4a71-cac0-ce837e0a409b"
      },
      "execution_count": 37,
      "outputs": [
        {
          "output_type": "stream",
          "name": "stdout",
          "text": [
            "1 3 4 2 "
          ]
        }
      ]
    },
    {
      "cell_type": "markdown",
      "source": [
        "<aside>\n",
        "💡 **Question 2**\n",
        "\n",
        "A number **N** is represented in Linked List such that each digit corresponds to a node in linked list. You need to add 1 to it.\n",
        "\n",
        "**Example 1:**\n",
        "\n",
        "</aside>\n",
        "Input:\n",
        "LinkedList: 4->5->6\n",
        "Output:457\n",
        "\n",
        "Example 2:\n",
        "Input:\n",
        "LinkedList: 1->2->3\n",
        "Output:124"
      ],
      "metadata": {
        "id": "aM7VSdyyn6G6"
      }
    },
    {
      "cell_type": "code",
      "source": [
        "class Node:\n",
        "    def __init__(self, data):\n",
        "        self.data = data\n",
        "        self.next = None\n",
        "\n",
        "def addOne(head):\n",
        "    # Reverse the linked list\n",
        "    prev = None\n",
        "    current = head\n",
        "    while current is not None:\n",
        "        next_node = current.next\n",
        "        current.next = prev\n",
        "        prev = current\n",
        "        current = next_node\n",
        "    head = prev\n",
        "\n",
        "    # Add 1 to the number\n",
        "    carry = 1\n",
        "    current = head\n",
        "    while current is not None:\n",
        "        total = current.data + carry\n",
        "        current.data = total % 10\n",
        "        carry = total // 10\n",
        "        current = current.next\n",
        "\n",
        "    # If there is still a carry, create a new node\n",
        "    if carry != 0:\n",
        "        new_node = Node(carry)\n",
        "        new_node.next = head\n",
        "        head = new_node\n",
        "\n",
        "    # Reverse the linked list again to get the result\n",
        "    prev = None\n",
        "    current = head\n",
        "    while current is not None:\n",
        "        next_node = current.next\n",
        "        current.next = prev\n",
        "        prev = current\n",
        "        current = next_node\n",
        "    head = prev\n",
        "\n",
        "    return head\n"
      ],
      "metadata": {
        "id": "uoCq_Uqln2r-"
      },
      "execution_count": 6,
      "outputs": []
    },
    {
      "cell_type": "code",
      "source": [
        "head = Node(4)\n",
        "node1 = Node(5)\n",
        "node2 = Node(6)\n",
        "\n",
        "head.next = node1\n",
        "node1.next = node2\n",
        "\n",
        "# Call the function to add 1 to the number\n",
        "result = addOne(head)\n",
        "\n",
        "# Print the resulting linked list\n",
        "current = result\n",
        "while current is not None:\n",
        "    print(current.data, end='')\n",
        "    current = current.next"
      ],
      "metadata": {
        "colab": {
          "base_uri": "https://localhost:8080/"
        },
        "id": "0TOkti1koQWH",
        "outputId": "01f00751-bf98-4858-cc98-ac5c9e1b0bb6"
      },
      "execution_count": 7,
      "outputs": [
        {
          "output_type": "stream",
          "name": "stdout",
          "text": [
            "457"
          ]
        }
      ]
    },
    {
      "cell_type": "markdown",
      "source": [
        "<aside>\n",
        "💡 **Question 3**\n",
        "\n",
        "Given a Linked List of size N, where every node represents a sub-linked-list and contains two pointers:(i) a **next** pointer to the next node,(ii) a **bottom** pointer to a linked list where this node is head.Each of the sub-linked-list is in sorted order.Flatten the Link List such that all the nodes appear in a single level while maintaining the sorted order. **Note:** The flattened list will be printed using the bottom pointer instead of next pointer.\n",
        "\n",
        "**Example 1:**\n",
        "\n",
        "</aside>\n",
        "Input:\n",
        "5 -> 10 -> 19 -> 28\n",
        "|     |     |     |\n",
        "7     20    22   35\n",
        "|           |     |\n",
        "8          50    40\n",
        "|                 |\n",
        "30               45\n",
        "Output: 5-> 7-> 8- > 10 -> 19-> 20->\n",
        "22-> 28-> 30-> 35-> 40-> 45-> 50.\n",
        "Explanation:\n",
        "The resultant linked lists has every\n",
        "node in a single level.(Note:| represents the bottom pointer.)\n",
        "\n",
        "Example 2\n",
        "\n",
        "Input:\n",
        "5 -> 10 -> 19 -> 28\n",
        "|          |\n",
        "7          22\n",
        "|          |\n",
        "8          50\n",
        "|\n",
        "30\n",
        "Output: 5->7->8->10->19->22->28->30->50\n",
        "Explanation:\n",
        "The resultant linked lists has every\n",
        "node in a single level.\n",
        "\n",
        "(Note:| represents the bottom pointer.)"
      ],
      "metadata": {
        "id": "FArfGAcPoaSo"
      }
    },
    {
      "cell_type": "code",
      "source": [
        "class Node:\n",
        "    def __init__(self, data):\n",
        "        self.data = data\n",
        "        self.next = None\n",
        "        self.bottom = None\n",
        "\n",
        "def merge(a, b):\n",
        "    if a is None:\n",
        "        return b\n",
        "    if b is None:\n",
        "        return a\n",
        "\n",
        "    result = None\n",
        "    if a.data <= b.data:\n",
        "        result = a\n",
        "        result.bottom = merge(a.bottom, b)\n",
        "    else:\n",
        "        result = b\n",
        "        result.bottom = merge(a, b.bottom)\n",
        "\n",
        "    return result\n",
        "\n",
        "def flatten(head):\n",
        "    if head is None or head.next is None:\n",
        "        return head\n",
        "\n",
        "    head.next = flatten(head.next)\n",
        "\n",
        "    head = merge(head, head.next)\n",
        "\n",
        "    return head\n",
        "\n",
        "def printList(head):\n",
        "    current = head\n",
        "    while current is not None:\n",
        "        print(current.data, end=\" \")\n",
        "        current = current.bottom\n",
        "\n",
        "    print()"
      ],
      "metadata": {
        "id": "nqN9dhDeoUMB"
      },
      "execution_count": 16,
      "outputs": []
    },
    {
      "cell_type": "code",
      "source": [
        "head = Node(5)\n",
        "head.next = Node(10)\n",
        "head.next.next = Node(19)\n",
        "head.next.next.next = Node(28)\n",
        "\n",
        "head.bottom = Node(7)\n",
        "head.bottom.bottom = Node(8)\n",
        "head.bottom.bottom.bottom = Node(30)\n",
        "\n",
        "head.next.bottom = Node(20)\n",
        "\n",
        "head.next.next.bottom = Node(22)\n",
        "head.next.next.next.bottom = Node(35)\n",
        "\n",
        "head.next.bottom.bottom = Node(50)\n",
        "head.next.next.bottom = Node(40)\n",
        "head.next.next.bottom.bottom = Node(45)\n",
        "\n",
        "# Call the function to flatten the linked list\n",
        "result = flatten(head)\n",
        "\n",
        "# Print the flattened list\n",
        "printList(result)\n"
      ],
      "metadata": {
        "colab": {
          "base_uri": "https://localhost:8080/"
        },
        "id": "PFOEb34-o3Pv",
        "outputId": "787e934a-9e84-4121-e08d-39791b938f44"
      },
      "execution_count": 17,
      "outputs": [
        {
          "output_type": "stream",
          "name": "stdout",
          "text": [
            "5 7 8 10 19 20 28 30 35 40 45 50 \n"
          ]
        }
      ]
    },
    {
      "cell_type": "markdown",
      "source": [
        "<aside>\n",
        "💡 **Question 5**\n",
        "\n",
        "Given the `head` of a singly linked list, group all the nodes with odd indices together followed by the nodes with even indices, and return *the reordered list*.\n",
        "\n",
        "The **first** node is considered **odd**, and the **second** node is **even**, and so on.\n",
        "\n",
        "Note that the relative order inside both the even and odd groups should remain as it was in the input.\n",
        "\n",
        "You must solve the problem in `O(1)` extra space complexity and `O(n)` time complexity.\n",
        "\n",
        "**Example 1:**\n",
        "\n",
        "</aside>\n",
        "Input: head = [1,2,3,4,5]\n",
        "Output: [1,3,5,2,4]\n"
      ],
      "metadata": {
        "id": "ybi52rGSqbah"
      }
    },
    {
      "cell_type": "code",
      "source": [
        "class ListNode:\n",
        "    def __init__(self, val=0, next=None):\n",
        "        self.val = val\n",
        "        self.next = next\n",
        "\n",
        "def oddEvenList(head):\n",
        "    if not head or not head.next:\n",
        "        return head\n",
        "\n",
        "    odd_head = head\n",
        "    even_head = head.next\n",
        "    even = even_head\n",
        "\n",
        "    while even and even.next:\n",
        "        odd_head.next = even.next\n",
        "        odd_head = odd_head.next\n",
        "        even.next = odd_head.next\n",
        "        even = even.next\n",
        "\n",
        "    odd_head.next = even_head\n",
        "\n",
        "    return head\n"
      ],
      "metadata": {
        "id": "Bd3Gtqx6o-ub"
      },
      "execution_count": 18,
      "outputs": []
    },
    {
      "cell_type": "code",
      "source": [
        "\n",
        "head = ListNode(1)\n",
        "head.next = ListNode(2)\n",
        "head.next.next = ListNode(3)\n",
        "head.next.next.next = ListNode(4)\n",
        "head.next.next.next.next = ListNode(5)\n",
        "\n",
        "# Group the nodes by their indices\n",
        "result = oddEvenList(head)\n",
        "\n",
        "current = result\n",
        "while current:\n",
        "    print(current.val, end=\" \")\n",
        "    current = current.next\n",
        "\n"
      ],
      "metadata": {
        "colab": {
          "base_uri": "https://localhost:8080/"
        },
        "id": "e4cUa452q4U0",
        "outputId": "d0e24f2b-a857-4ed6-e4ea-2ce0bee1bc77"
      },
      "execution_count": 21,
      "outputs": [
        {
          "output_type": "stream",
          "name": "stdout",
          "text": [
            "1 3 5 2 4 "
          ]
        }
      ]
    },
    {
      "cell_type": "markdown",
      "source": [
        "<aside>\n",
        "💡 **Question 6**\n",
        "\n",
        "Given a singly linked list of size **N**. The task is to **left-shift** the linked list by **k** nodes, where **k** is a given positive integer smaller than or equal to length of the linked list.\n",
        "\n",
        "**Example 1:**\n",
        "\n",
        "</aside>\n",
        "Input:\n",
        "N = 5\n",
        "value[] = {2, 4, 7, 8, 9}\n",
        "k = 3\n",
        "Output:8 9 2 4 7\n",
        "Explanation:Rotate 1:4 -> 7 -> 8 -> 9 -> 2\n",
        "Rotate 2: 7 -> 8 -> 9 -> 2 -> 4\n",
        "Rotate 3: 8 -> 9 -> 2 -> 4 -> 7\n"
      ],
      "metadata": {
        "id": "jxhywY1OrCQ2"
      }
    },
    {
      "cell_type": "code",
      "source": [
        "class ListNode:\n",
        "    def __init__(self, val=0, next=None):\n",
        "        self.val = val\n",
        "        self.next = next\n",
        "\n",
        "def leftShift(head, k):\n",
        "    if not head or not head.next or k == 0:\n",
        "        return head\n",
        "\n",
        "    # Find the length of the linked list\n",
        "    length = 0\n",
        "    current = head\n",
        "    while current:\n",
        "        length += 1\n",
        "        current = current.next\n",
        "\n",
        "    # Adjust k to handle wrap-around rotations\n",
        "    k %= length\n",
        "\n",
        "    if k == 0:\n",
        "        return head\n",
        "\n",
        "    # Find the kth node from the beginning\n",
        "    count = 1\n",
        "    kth_node = head\n",
        "    while count < k:\n",
        "        kth_node = kth_node.next\n",
        "        count += 1\n",
        "\n",
        "    # Set the new head of the modified linked list\n",
        "    new_head = kth_node.next\n",
        "\n",
        "    # Traverse to the end of the linked list\n",
        "    current = new_head\n",
        "    while current.next:\n",
        "        current = current.next\n",
        "\n",
        "    # Connect the end to the original head\n",
        "    current.next = head\n",
        "\n",
        "    # Break the link after the kth node\n",
        "    kth_node.next = None\n",
        "\n",
        "    return new_head\n"
      ],
      "metadata": {
        "id": "v_05KbYAq6cD"
      },
      "execution_count": 22,
      "outputs": []
    },
    {
      "cell_type": "code",
      "source": [
        "\n",
        "head = ListNode(2)\n",
        "head.next = ListNode(4)\n",
        "head.next.next = ListNode(7)\n",
        "head.next.next.next = ListNode(8)\n",
        "head.next.next.next.next = ListNode(9)\n",
        "\n",
        "\n",
        "result = leftShift(head, 3)\n",
        "\n",
        "current = result\n",
        "while current:\n",
        "    print(current.val, end=\" \")\n",
        "    current = current.next\n",
        "\n"
      ],
      "metadata": {
        "colab": {
          "base_uri": "https://localhost:8080/"
        },
        "id": "APqm5t3krNqi",
        "outputId": "7076058a-8fae-4d9c-9f73-48ee5741029b"
      },
      "execution_count": 24,
      "outputs": [
        {
          "output_type": "stream",
          "name": "stdout",
          "text": [
            "8 9 2 4 7 "
          ]
        }
      ]
    },
    {
      "cell_type": "markdown",
      "source": [
        "<aside>\n",
        "💡 **Question 7**\n",
        "\n",
        "You are given the `head` of a linked list with `n` nodes.\n",
        "\n",
        "For each node in the list, find the value of the **next greater node**. That is, for each node, find the value of the first node that is next to it and has a **strictly larger** value than it.\n",
        "\n",
        "Return an integer array `answer` where `answer[i]` is the value of the next greater node of the `ith` node (**1-indexed**). If the `ith` node does not have a next greater node, set `answer[i] = 0`.\n",
        "\n",
        "**Example 1:**\n",
        "\n",
        "</aside>\n",
        "Input: head = [2,1,5]\n",
        "Output: [5,5,0]\n",
        "\n",
        "Input: head = [2,7,4,3,5]\n",
        "Output: [7,0,5,5,0]"
      ],
      "metadata": {
        "id": "eHAQJeIurY3_"
      }
    },
    {
      "cell_type": "code",
      "source": [
        "class ListNode:\n",
        "    def __init__(self, val=0, next=None):\n",
        "        self.val = val\n",
        "        self.next = next\n",
        "\n",
        "def nextGreaterNodes(head):\n",
        "    # Convert the linked list to a list\n",
        "    nodes = []\n",
        "    current = head\n",
        "    while current:\n",
        "        nodes.append(current.val)\n",
        "        current = current.next\n",
        "\n",
        "    n = len(nodes)\n",
        "    stack = []\n",
        "    result = [0] * n\n",
        "\n",
        "    for i in range(n - 1, -1, -1):\n",
        "        while stack and nodes[i] >= stack[-1]:\n",
        "            stack.pop()\n",
        "        if stack:\n",
        "            result[i] = stack[-1]\n",
        "        stack.append(nodes[i])\n",
        "\n",
        "    return result\n"
      ],
      "metadata": {
        "id": "6WS-Usy_rQy9"
      },
      "execution_count": 25,
      "outputs": []
    },
    {
      "cell_type": "code",
      "source": [
        "\n",
        "head = ListNode(2)\n",
        "head.next = ListNode(1)\n",
        "head.next.next = ListNode(5)\n",
        "\n",
        "# Find the next greater nodes\n",
        "result = nextGreaterNodes(head)\n",
        "\n",
        "\n",
        "print(result)\n"
      ],
      "metadata": {
        "colab": {
          "base_uri": "https://localhost:8080/"
        },
        "id": "9nydsU9Mrjhx",
        "outputId": "f7a7de97-4949-4812-e61d-6712dcfb44b7"
      },
      "execution_count": 26,
      "outputs": [
        {
          "output_type": "stream",
          "name": "stdout",
          "text": [
            "[5, 5, 0]\n"
          ]
        }
      ]
    },
    {
      "cell_type": "markdown",
      "source": [
        "<aside>\n",
        "💡 **Question 8**\n",
        "\n",
        "Given the `head` of a linked list, we repeatedly delete consecutive sequences of nodes that sum to `0` until there are no such sequences.\n",
        "\n",
        "After doing so, return the head of the final linked list.  You may return any such answer.\n",
        "\n",
        "(Note that in the examples below, all sequences are serializations of `ListNode` objects.)\n",
        "\n",
        "**Example 1:**\n",
        "\n",
        "</aside>\n",
        "Input: head = [1,2,-3,3,1]\n",
        "Output: [3,1]\n",
        "Note: The answer [1,2,1] would also be accepted.\n"
      ],
      "metadata": {
        "id": "vFFcuoGNrrzt"
      }
    },
    {
      "cell_type": "code",
      "source": [
        "class ListNode:\n",
        "    def __init__(self, val=0, next=None):\n",
        "        self.val = val\n",
        "        self.next = next\n",
        "\n",
        "def removeZeroSumSublists(head):\n",
        "    dummy = ListNode(0)\n",
        "    dummy.next = head\n",
        "\n",
        "    # Use a hashmap to store running sums and their corresponding nodes\n",
        "    hashmap = {}\n",
        "    current = dummy\n",
        "    running_sum = 0\n",
        "\n",
        "    while current:\n",
        "        running_sum += current.val\n",
        "\n",
        "        if running_sum == 0:\n",
        "            # If the running sum is 0, remove nodes from the dummy node up to the current node\n",
        "            dummy.next = current.next\n",
        "            hashmap = {}  # Clear the hashmap\n",
        "        elif running_sum in hashmap:\n",
        "            # Remove nodes between the previous occurrence of the running sum and the current node\n",
        "            prev = hashmap[running_sum]\n",
        "            prev.next = current.next\n",
        "\n",
        "            # Remove the running sums from the hashmap\n",
        "            temp = running_sum + prev.next.val\n",
        "            while temp != running_sum:\n",
        "                del hashmap[temp]\n",
        "                prev = prev.next\n",
        "                temp += prev.next.val\n",
        "\n",
        "        else:\n",
        "            hashmap[running_sum] = current\n",
        "\n",
        "        current = current.next\n",
        "\n",
        "    return dummy.next\n"
      ],
      "metadata": {
        "id": "zFAcW1Asrlsd"
      },
      "execution_count": 29,
      "outputs": []
    },
    {
      "cell_type": "code",
      "source": [
        "# Create the linked list: 1 -> 2 -> -3 -> 3 -> 1\n",
        "head = ListNode(1)\n",
        "head.next = ListNode(2)\n",
        "head.next.next = ListNode(-3)\n",
        "head.next.next.next = ListNode(3)\n",
        "head.next.next.next.next = ListNode(1)\n",
        "\n",
        "# Remove consecutive sequences with a sum of 0\n",
        "result = removeZeroSumSublists(head)\n",
        "\n",
        "# Print the result: 3 -> 1\n",
        "while result:\n",
        "    print(result.val, end=' ')\n",
        "    result = result.next\n"
      ],
      "metadata": {
        "colab": {
          "base_uri": "https://localhost:8080/"
        },
        "id": "Lv1O83Uqr8Wp",
        "outputId": "f2dffc8e-4431-4685-ce91-90ab223df57d"
      },
      "execution_count": 30,
      "outputs": [
        {
          "output_type": "stream",
          "name": "stdout",
          "text": [
            "3 1 "
          ]
        }
      ]
    },
    {
      "cell_type": "code",
      "source": [],
      "metadata": {
        "id": "vydLZjfer_ck"
      },
      "execution_count": null,
      "outputs": []
    }
  ]
}