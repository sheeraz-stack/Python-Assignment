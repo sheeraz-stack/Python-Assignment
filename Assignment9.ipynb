{
  "nbformat": 4,
  "nbformat_minor": 0,
  "metadata": {
    "colab": {
      "provenance": [],
      "authorship_tag": "ABX9TyNDOQqID9Xcy0F0b/sZO3SN",
      "include_colab_link": true
    },
    "kernelspec": {
      "name": "python3",
      "display_name": "Python 3"
    },
    "language_info": {
      "name": "python"
    }
  },
  "cells": [
    {
      "cell_type": "markdown",
      "metadata": {
        "id": "view-in-github",
        "colab_type": "text"
      },
      "source": [
        "<a href=\"https://colab.research.google.com/github/jayant3297/Pre_Placement_Training/blob/main/Assignment9.ipynb\" target=\"_parent\"><img src=\"https://colab.research.google.com/assets/colab-badge.svg\" alt=\"Open In Colab\"/></a>"
      ]
    },
    {
      "cell_type": "markdown",
      "source": [
        "<aside>\n",
        "💡 **Question 1**\n",
        "\n",
        "Given an integer `n`, return *`true` if it is a power of two. Otherwise, return `false`*.\n",
        "\n",
        "An integer `n` is a power of two, if there exists an integer `x` such that `n == 2x`.\n",
        "\n",
        "**Example 1:**\n",
        "Input: n = 1 \n",
        "\n",
        "Output: true\n",
        "\n",
        "**Example 2:**\n",
        "Input: n = 16 \n",
        "\n",
        "Output: true\n",
        "\n",
        "**Example 3:**\n",
        "Input: n = 3 \n",
        "\n",
        "Output: false\n",
        "\n",
        "</aside>"
      ],
      "metadata": {
        "id": "80F-WNvcMkLL"
      }
    },
    {
      "cell_type": "code",
      "execution_count": 1,
      "metadata": {
        "id": "9apKtM2LK4y1"
      },
      "outputs": [],
      "source": [
        "def isPowerOfTwo(n):\n",
        "    if n <= 0:\n",
        "        return False\n",
        "\n",
        "    # Check if n has only one bit set\n",
        "    return n & (n - 1) == 0\n"
      ]
    },
    {
      "cell_type": "code",
      "source": [
        "n1 = 1\n",
        "print(isPowerOfTwo(n1))  # Output: True\n",
        "\n",
        "n2 = 16\n",
        "print(isPowerOfTwo(n2))  # Output: True\n",
        "\n",
        "n3 = 3\n",
        "print(isPowerOfTwo(n3))  # Output: False\n"
      ],
      "metadata": {
        "colab": {
          "base_uri": "https://localhost:8080/"
        },
        "id": "yxGO2_V6Mq1x",
        "outputId": "5aec0d67-7fd5-422b-bdb3-8e7041e143fa"
      },
      "execution_count": 2,
      "outputs": [
        {
          "output_type": "stream",
          "name": "stdout",
          "text": [
            "True\n",
            "True\n",
            "False\n"
          ]
        }
      ]
    },
    {
      "cell_type": "markdown",
      "source": [
        "<aside>\n",
        "💡 **Question 2**\n",
        "\n",
        "Given a number n, find the sum of the first natural numbers.\n",
        "\n",
        "**Example 1:**\n",
        "\n",
        "Input: n = 3 \n",
        "\n",
        "Output: 6\n",
        "\n",
        "**Example 2:**\n",
        "\n",
        "Input  : 5 \n",
        "\n",
        "Output : 15\n",
        "\n",
        "</aside>"
      ],
      "metadata": {
        "id": "hyxiePhbNlVE"
      }
    },
    {
      "cell_type": "code",
      "source": [
        "def sumOfFirstNNumbers(n):\n",
        "    return n * (n + 1) // 2\n"
      ],
      "metadata": {
        "id": "7TVuAyKlMtKg"
      },
      "execution_count": 3,
      "outputs": []
    },
    {
      "cell_type": "code",
      "source": [
        "n1 = 3\n",
        "print(sumOfFirstNNumbers(n1))  # Output: 6\n",
        "\n",
        "n2 = 5\n",
        "print(sumOfFirstNNumbers(n2))  # Output: 15\n"
      ],
      "metadata": {
        "colab": {
          "base_uri": "https://localhost:8080/"
        },
        "id": "Nk3EMljPNufF",
        "outputId": "c7e63749-ee29-4402-d28b-83a95d5b544a"
      },
      "execution_count": 4,
      "outputs": [
        {
          "output_type": "stream",
          "name": "stdout",
          "text": [
            "6\n",
            "15\n"
          ]
        }
      ]
    },
    {
      "cell_type": "markdown",
      "source": [
        "<aside>\n",
        "💡 **Question 3**\n",
        "\n",
        "****Given a positive integer, N. Find the factorial of N. \n",
        "\n",
        "**Example 1:**\n",
        "\n",
        "Input: N = 5 \n",
        "\n",
        "Output: 120\n",
        "\n",
        "**Example 2:**\n",
        "\n",
        "Input: N = 4\n",
        "\n",
        "Output: 24\n",
        "\n",
        "</aside>"
      ],
      "metadata": {
        "id": "Z454IUreN0EG"
      }
    },
    {
      "cell_type": "code",
      "source": [
        "def factorial(N):\n",
        "    result = 1\n",
        "    for i in range(1, N+1):\n",
        "        result *= i\n",
        "    return result\n"
      ],
      "metadata": {
        "id": "ace9WAG7Nv6Z"
      },
      "execution_count": 5,
      "outputs": []
    },
    {
      "cell_type": "code",
      "source": [
        "N1 = 5\n",
        "print(factorial(N1))  \n",
        "\n",
        "N2 = 4\n",
        "print(factorial(N2))  \n",
        "\n"
      ],
      "metadata": {
        "colab": {
          "base_uri": "https://localhost:8080/"
        },
        "id": "85JvjDqNN3GE",
        "outputId": "ad555420-b8a2-4e97-8489-3a90b347f6e0"
      },
      "execution_count": 6,
      "outputs": [
        {
          "output_type": "stream",
          "name": "stdout",
          "text": [
            "120\n",
            "24\n"
          ]
        }
      ]
    },
    {
      "cell_type": "markdown",
      "source": [
        "<aside>\n",
        "💡 **Question 4**\n",
        "\n",
        "Given a number N and a power P, the task is to find the exponent of this number raised to the given power, i.e. N^P.\n",
        "\n",
        "**Example 1 :** \n",
        "\n",
        "Input: N = 5, P = 2\n",
        "\n",
        "Output: 25\n",
        "\n",
        "**Example 2 :**\n",
        "Input: N = 2, P = 5\n",
        "\n",
        "Output: 32\n",
        "\n",
        "</aside>"
      ],
      "metadata": {
        "id": "HbHBvC99N9dO"
      }
    },
    {
      "cell_type": "code",
      "source": [
        "def exponentiation(N, P):\n",
        "    result = N ** P\n",
        "    return result\n"
      ],
      "metadata": {
        "id": "-6UjW2clN4bo"
      },
      "execution_count": 7,
      "outputs": []
    },
    {
      "cell_type": "code",
      "source": [
        "N1 = 5\n",
        "P1 = 2\n",
        "print(exponentiation(N1, P1))  \n",
        "\n",
        "N2 = 2\n",
        "P2 = 5\n",
        "print(exponentiation(N2, P2))"
      ],
      "metadata": {
        "colab": {
          "base_uri": "https://localhost:8080/"
        },
        "id": "4TVeusSHOCop",
        "outputId": "1ab20883-22d9-4a03-85d0-37dcd634900f"
      },
      "execution_count": 8,
      "outputs": [
        {
          "output_type": "stream",
          "name": "stdout",
          "text": [
            "25\n",
            "32\n"
          ]
        }
      ]
    },
    {
      "cell_type": "markdown",
      "source": [
        "<aside>\n",
        "💡 **Question 5**\n",
        "\n",
        "Given an array of integers **arr**, the task is to find maximum element of that array using recursion.\n",
        "\n",
        "**Example 1:**\n",
        "\n",
        "Input: arr = {1, 4, 3, -5, -4, 8, 6};\n",
        "Output: 8\n",
        "\n",
        "**Example 2:**\n",
        "\n",
        "Input: arr = {1, 4, 45, 6, 10, -8};\n",
        "Output: 45\n",
        "\n",
        "</aside>"
      ],
      "metadata": {
        "id": "s4VraIS8OLHd"
      }
    },
    {
      "cell_type": "code",
      "source": [
        "def find_maximum(arr):\n",
        "    # Base case: if the array has only one element, return that element\n",
        "    if len(arr) == 1:\n",
        "        return arr[0]\n",
        "    \n",
        "    # Recursive case: compare the first element with the maximum of the rest of the array\n",
        "    return max(arr[0], find_maximum(arr[1:]))"
      ],
      "metadata": {
        "id": "lIEp5o9WOIYX"
      },
      "execution_count": 9,
      "outputs": []
    },
    {
      "cell_type": "code",
      "source": [
        "arr1 = [1, 4, 3, -5, -4, 8, 6]\n",
        "print(find_maximum(arr1))  # Output: 8\n",
        "\n",
        "arr2 = [1, 4, 45, 6, 10, -8]\n",
        "print(find_maximum(arr2))  # Output: 45"
      ],
      "metadata": {
        "colab": {
          "base_uri": "https://localhost:8080/"
        },
        "id": "WPC-4FXOOSBr",
        "outputId": "cdb83be3-0d77-4d3f-b627-1bfba98dd0ed"
      },
      "execution_count": 10,
      "outputs": [
        {
          "output_type": "stream",
          "name": "stdout",
          "text": [
            "8\n",
            "45\n"
          ]
        }
      ]
    },
    {
      "cell_type": "markdown",
      "source": [
        "<aside>\n",
        "💡 **Question 6**\n",
        "\n",
        "Given first term (a), common difference (d) and a integer N of the Arithmetic Progression series, the task is to find Nth term of the series.\n",
        "\n",
        "**Example 1:**\n",
        "\n",
        "Input : a = 2 d = 1 N = 5\n",
        "Output : 6\n",
        "The 5th term of the series is : 6\n",
        "\n",
        "**Example 2:**\n",
        "\n",
        "Input : a = 5 d = 2 N = 10\n",
        "Output : 23\n",
        "The 10th term of the series is : 23\n",
        "\n",
        "</aside>"
      ],
      "metadata": {
        "id": "wnOlEJkjOWHB"
      }
    },
    {
      "cell_type": "code",
      "source": [
        "def find_nth_term(a, d, N):\n",
        "    return a + (N - 1) * d"
      ],
      "metadata": {
        "id": "a3pBPlelOTqS"
      },
      "execution_count": 12,
      "outputs": []
    },
    {
      "cell_type": "code",
      "source": [
        "\n",
        "a1 = 2\n",
        "d1 = 1\n",
        "N1 = 5\n",
        "print(find_nth_term(a1, d1, N1))  \n",
        "\n",
        "a2 = 5\n",
        "d2 = 2\n",
        "N2 = 10\n",
        "print(find_nth_term(a2, d2, N2))"
      ],
      "metadata": {
        "colab": {
          "base_uri": "https://localhost:8080/"
        },
        "id": "yhxW74DFOsxN",
        "outputId": "68b5f0cd-9ab4-4c65-cc9e-9293a7ec0a24"
      },
      "execution_count": 13,
      "outputs": [
        {
          "output_type": "stream",
          "name": "stdout",
          "text": [
            "6\n",
            "23\n"
          ]
        }
      ]
    },
    {
      "cell_type": "markdown",
      "source": [
        "<aside>\n",
        "💡 **uestion 7**\n",
        "\n",
        "Given a string S, the task is to write a program to print all permutations of a given string.\n",
        "\n",
        "**Example 1:**\n",
        "\n",
        "***Input:***\n",
        "\n",
        "*S = “ABC”*\n",
        "\n",
        "***Output:***\n",
        "\n",
        "*“ABC”, “ACB”, “BAC”, “BCA”, “CBA”, “CAB”*\n",
        "\n",
        "**Example 2:**\n",
        "\n",
        "***Input:***\n",
        "\n",
        "*S = “XY”*\n",
        "\n",
        "***Output:***\n",
        "\n",
        "*“XY”, “YX”*\n",
        "\n",
        "</aside>"
      ],
      "metadata": {
        "id": "y_JQnsGNOyQq"
      }
    },
    {
      "cell_type": "code",
      "source": [
        "def permute_string(s):\n",
        "    result = []\n",
        "\n",
        "    \n",
        "    def backtrack(chars, start):\n",
        "        # Base case: If the start index reaches the end of the string, append the current permutation to the result\n",
        "        if start == len(chars):\n",
        "            result.append(''.join(chars))\n",
        "            return\n",
        "\n",
        "        # Recursive case: Generate permutations by fixing each character at the start index\n",
        "        for i in range(start, len(chars)):\n",
        "            # Swap characters at indices start and i\n",
        "            chars[start], chars[i] = chars[i], chars[start]\n",
        "\n",
        "            # Recursively generate permutations with the next character fixed\n",
        "            backtrack(chars, start + 1)\n",
        "\n",
        "            chars[start], chars[i] = chars[i], chars[start]\n",
        "\n",
        "    # Convert the string to a list of characters\n",
        "    chars = list(s)\n",
        "\n",
        "   \n",
        "    backtrack(chars, 0)\n",
        "\n",
        "    return result"
      ],
      "metadata": {
        "id": "AnPK-Xn0OuRd"
      },
      "execution_count": 14,
      "outputs": []
    },
    {
      "cell_type": "code",
      "source": [
        "S1 = \"ABC\"\n",
        "print(permute_string(S1))  # Output: [\"ABC\", \"ACB\", \"BAC\", \"BCA\", \"CBA\", \"CAB\"]\n",
        "\n",
        "S2 = \"XY\"\n",
        "print(permute_string(S2))  # Output: [\"XY\", \"YX\"]"
      ],
      "metadata": {
        "colab": {
          "base_uri": "https://localhost:8080/"
        },
        "id": "MrzgpE6aPUk3",
        "outputId": "0711e243-302c-4e09-c34b-6800b90cec1b"
      },
      "execution_count": 15,
      "outputs": [
        {
          "output_type": "stream",
          "name": "stdout",
          "text": [
            "['ABC', 'ACB', 'BAC', 'BCA', 'CBA', 'CAB']\n",
            "['XY', 'YX']\n"
          ]
        }
      ]
    },
    {
      "cell_type": "markdown",
      "source": [
        "<aside>\n",
        "💡 **Question 8**\n",
        "\n",
        "Given an array, find a product of all array elements.\n",
        "\n",
        "**Example 1:**\n",
        "\n",
        "Input  : arr[] = {1, 2, 3, 4, 5}\n",
        "Output : 120\n",
        "**Example 2:**\n",
        "\n",
        "Input  : arr[] = {1, 6, 3}\n",
        "Output : 18\n",
        "\n",
        "</aside>"
      ],
      "metadata": {
        "id": "vsQSMsuKPdDA"
      }
    },
    {
      "cell_type": "code",
      "source": [
        "def product_of_array(arr):\n",
        "    product = 1\n",
        "\n",
        "    for num in arr:\n",
        "        product *= num\n",
        "\n",
        "    return product"
      ],
      "metadata": {
        "id": "TGdZ17V9PYKa"
      },
      "execution_count": 16,
      "outputs": []
    },
    {
      "cell_type": "code",
      "source": [
        "arr1 = [1, 2, 3, 4, 5]\n",
        "print(product_of_array(arr1))  \n",
        "\n",
        "arr2 = [1, 6, 3]\n",
        "print(product_of_array(arr2))"
      ],
      "metadata": {
        "colab": {
          "base_uri": "https://localhost:8080/"
        },
        "id": "s9HRURQpQNSV",
        "outputId": "3dcbe852-8702-4eaa-8c00-907b70e864e7"
      },
      "execution_count": 17,
      "outputs": [
        {
          "output_type": "stream",
          "name": "stdout",
          "text": [
            "120\n",
            "18\n"
          ]
        }
      ]
    },
    {
      "cell_type": "code",
      "source": [],
      "metadata": {
        "id": "7xZct_1dQXhj"
      },
      "execution_count": null,
      "outputs": []
    }
  ]
}